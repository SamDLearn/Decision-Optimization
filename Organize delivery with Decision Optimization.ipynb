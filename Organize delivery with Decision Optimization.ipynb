{
    "cells": [
        {
            "cell_type": "markdown",
            "metadata": {},
            "source": "# The Truck Fleet puzzle - Organize product delivery with Decision Optimization"
        },
        {
            "cell_type": "markdown",
            "metadata": {},
            "source": "### Describe the business problem\n\n* The problem is to deliver some orders to several clients with a single truck.\n* Each order consists of a given quantity of a product of a certain type.\n* A product type is an integer in {0, 1, 2}.\n* Loading the truck with at least one product of a given type requires some specific installations. \n* The truck can be configured in order to handle one, two or three different types of product. \n* There are 7 different configurations for the truck, corresponding to the 7 possible combinations of product types:\n - configuration 0: all products are of type 0,\n - configuration 1: all products are of type 1,\n - configuration 2: all products are of type 2,\n - configuration 3: products are of type 0 or 1,\n - configuration 4: products are of type 0 or 2,\n - configuration 5: products are of type 1 or 2,\n - configuration 6: products are of type 0 or 1 or 2.\n* The cost for configuring the truck from a configuration A to a configuration B depends on A and B.\n* The configuration of the truck determines its capacity and its loading cost.\n* A delivery consists of loading the truck with one or several orders for the same customer.\n* Both the cost (for configuring and loading the truck) and the number of deliveries needed to deliver all the orders must be minimized, the cost being the most important criterion."
        },
        {
            "cell_type": "markdown",
            "metadata": {},
            "source": "*****\n## How  decision optimization can help\n* Prescriptive analytics technology recommends actions based on desired outcomes, taking into account specific scenarios, resources, and knowledge of past and current events. This insight can help your organization make better decisions and have greater control of business outcomes.  \n\n* Prescriptive analytics is the next step on the path to insight-based actions. It creates value through synergy with predictive analytics, which analyzes data to predict future outcomes.  \n\n* Prescriptive analytics takes that insight to the next level by suggesting the optimal way to handle that future situation. Organizations that can act fast in dynamic conditions and make superior decisions in uncertain environments gain a strong competitive advantage.  \n<br/>\n\n+ For example:\n    + Automate complex decisions and trade-offs to better manage limited resources.\n    + Take advantage of a future opportunity or mitigate a future risk.\n    + Proactively update recommendations based on changing events.\n    + Meet operational goals, increase customer loyalty, prevent threats and fraud, and optimize business processes.\n"
        },
        {
            "cell_type": "markdown",
            "metadata": {},
            "source": "## Use decision optimization"
        },
        {
            "cell_type": "markdown",
            "metadata": {},
            "source": "### Step 1: Model the data"
        },
        {
            "cell_type": "markdown",
            "metadata": {},
            "source": "Use the Constraint Programming modeling package and define the data for the problem. "
        },
        {
            "cell_type": "code",
            "execution_count": 1,
            "metadata": {},
            "outputs": [],
            "source": "from docplex.cp.model import *"
        },
        {
            "cell_type": "code",
            "execution_count": 2,
            "metadata": {},
            "outputs": [],
            "source": "# List of possible truck configurations. Each tuple is (load, cost) with:\n#    load: max truck load for this configuration,\n#    cost: cost for loading the truck in this configuration\nTRUCK_CONFIGURATIONS = ((11, 2), (11, 2), (11, 2), (11, 3), (10, 3), (10, 3), (10, 4))\n\n# List of customer orders.\n# Each tuple is (customer index, volume, product type)\nCUSTOMER_ORDERS = ((0, 3, 1), (0, 4, 2), (0, 3, 0), (0, 2, 1), (0, 5, 1), (0, 4, 1), (0, 11, 0),\n                   (1, 4, 0), (1, 5, 0), (1, 2, 0), (1, 4, 2), (1, 7, 2), (1, 3, 2), (1, 5, 0), (1, 2, 2),\n                   (2, 5, 1), (2, 6, 0), (2, 11, 2), (2, 1, 0), (2, 6, 0), (2, 3, 0))\n\n# Transition costs between configurations.\n# Tuple (A, B, TCost) means that the cost of  modifying the truck from configuration A to configuration B is TCost\nCONFIGURATION_TRANSITION_COST = tuple_set(((0, 0,  0), (0, 1,  0), (0, 2,  0), (0, 3, 10), (0, 4, 10),\n                                           (0, 5, 10), (0, 6, 15), (1, 0,  0), (1, 1,  0), (1, 2,  0),\n                                           (1, 3, 10), (1, 4, 10), (1, 5, 10), (1, 6, 15), (2, 0,  0),\n                                           (2, 1,  0), (2, 2,  0), (2, 3, 10), (2, 4, 10), (2, 5, 10),\n                                           (2, 6, 15), (3, 0,  3), (3, 1,  3), (3, 2,  3), (3, 3,  0),\n                                           (3, 4, 10), (3, 5, 10), (3, 6, 15), (4, 0,  3), (4, 1,  3),\n                                           (4, 2,  3), (4, 3, 10), (4, 4,  0), (4, 5, 10), (4, 6, 15),\n                                           (5, 0,  3), (5, 1,  3), (5, 2,  3), (5, 3, 10), (5, 4, 10),\n                                           (5, 5,  0), (5, 6, 15), (6, 0,  3), (6, 1,  3), (6, 2,  3),\n                                           (6, 3, 10), (6, 4, 10), (6, 5, 10), (6, 6,  0)\n                                           ))\n\n# Compatibility between the product types and the configuration of the truck\n# allowedContainerConfigs[i] = the array of all the configurations that accept products of type i\nALLOWED_CONTAINER_CONFIGS = ((0, 3, 4, 6),\n                             (1, 3, 5, 6),\n                             (2, 4, 5, 6))\n"
        },
        {
            "cell_type": "markdown",
            "metadata": {},
            "source": "### Step 2: Set up the prescriptive model"
        },
        {
            "cell_type": "markdown",
            "metadata": {},
            "source": "#### Prepare data for modeling"
        },
        {
            "cell_type": "markdown",
            "metadata": {},
            "source": "The next section extracts from problem data the parts that are frequently used in the modeling section."
        },
        {
            "cell_type": "code",
            "execution_count": 3,
            "metadata": {},
            "outputs": [],
            "source": "nbTruckConfigs = len(TRUCK_CONFIGURATIONS)\nmaxTruckConfigLoad = [tc[0] for tc in TRUCK_CONFIGURATIONS]\ntruckCost = [tc[1] for tc in TRUCK_CONFIGURATIONS]\nmaxLoad = max(maxTruckConfigLoad)\n\nnbOrders = len(CUSTOMER_ORDERS)\nnbCustomers = 1 + max(co[0] for co in CUSTOMER_ORDERS)\nvolumes = [co[1] for co in CUSTOMER_ORDERS]\nproductType = [co[2] for co in CUSTOMER_ORDERS]\n\n# Max number of truck deliveries (estimated upper bound, to be increased if no solution)\nmaxDeliveries = 15"
        },
        {
            "cell_type": "markdown",
            "metadata": {},
            "source": "#### Create CPO model"
        },
        {
            "cell_type": "code",
            "execution_count": 4,
            "metadata": {},
            "outputs": [],
            "source": "mdl = CpoModel(name=\"trucks\")"
        },
        {
            "cell_type": "markdown",
            "metadata": {},
            "source": "#### Define the decision variables"
        },
        {
            "cell_type": "code",
            "execution_count": 5,
            "metadata": {},
            "outputs": [],
            "source": "# Configuration of the truck for each delivery\ntruckConfigs = integer_var_list(maxDeliveries, 0, nbTruckConfigs - 1, \"truckConfigs\")\n# In which delivery is an order\nwhere = integer_var_list(nbOrders, 0, maxDeliveries - 1, \"where\")\n# Load of a truck\nload = integer_var_list(maxDeliveries, 0, maxLoad, \"load\")\n# Number of deliveries that are required\nnbDeliveries = integer_var(0, maxDeliveries)\n# Identification of which customer is assigned to a delivery\ncustomerOfDelivery = integer_var_list(maxDeliveries, 0, nbCustomers, \"customerOfTruck\")\n# Transition cost for each delivery\ntransitionCost = integer_var_list(maxDeliveries - 1, 0, 1000, \"transitionCost\")"
        },
        {
            "cell_type": "markdown",
            "metadata": {},
            "source": "#### Express the business constraints"
        },
        {
            "cell_type": "code",
            "execution_count": 6,
            "metadata": {},
            "outputs": [],
            "source": "# transitionCost[i] = transition cost between configurations i and i+1\nfor i in range(1, maxDeliveries):\n    auxVars = (truckConfigs[i - 1], truckConfigs[i], transitionCost[i - 1])\n    mdl.add(allowed_assignments(auxVars, CONFIGURATION_TRANSITION_COST))\n\n# Constrain the volume of the orders in each truck\nmdl.add(pack(load, where, volumes, nbDeliveries))\nfor i in range(0, maxDeliveries):\n    mdl.add(load[i] <= element(truckConfigs[i], maxTruckConfigLoad))\n\n# Compatibility between the product type of an order and the configuration of its truck\nfor j in range(0, nbOrders):\n    configOfContainer = integer_var(ALLOWED_CONTAINER_CONFIGS[productType[j]])\n    mdl.add(configOfContainer == element(truckConfigs, where[j]))\n\n# Only one customer per delivery\nfor j in range(0, nbOrders):\n    mdl.add(element(customerOfDelivery, where[j]) == CUSTOMER_ORDERS[j][0])\n\n# Non-used deliveries are at the end\nfor j in range(1, maxDeliveries):\n    mdl.add((load[j - 1] > 0) | (load[j] == 0))\n\n# Dominance: the non used deliveries keep the last used configuration\nmdl.add(load[0] > 0)\nfor i in range(1, maxDeliveries):\n    mdl.add((load[i] > 0) | (truckConfigs[i] == truckConfigs[i - 1]))\n\n# Dominance: regroup deliveries with same configuration\nfor i in range(maxDeliveries - 2, 0, -1):\n    ct = true()\n    for p in range(i + 1, maxDeliveries):\n        ct = (truckConfigs[p] != truckConfigs[i - 1]) & ct\n    mdl.add((truckConfigs[i] == truckConfigs[i - 1]) | ct)"
        },
        {
            "cell_type": "markdown",
            "metadata": {},
            "source": "#### Express the objective"
        },
        {
            "cell_type": "code",
            "execution_count": 7,
            "metadata": {},
            "outputs": [],
            "source": "# Objective: first criterion for minimizing the cost for configuring and loading trucks \n#            second criterion for minimizing the number of deliveries\ncost = sum(transitionCost) + sum(element(truckConfigs[i], truckCost) * (load[i] != 0) for i in range(maxDeliveries))\nmdl.add(minimize_static_lex([cost, nbDeliveries]))"
        },
        {
            "cell_type": "markdown",
            "metadata": {},
            "source": "#### Solve with Decision Optimization solve service"
        },
        {
            "cell_type": "code",
            "execution_count": 8,
            "metadata": {},
            "outputs": [
                {
                    "name": "stdout",
                    "output_type": "stream",
                    "text": "\nSolving model....\n"
                }
            ],
            "source": "# Search strategy: first assign order to truck\nmdl.set_search_phases([search_phase(where)])\n\n# Solve model\nprint(\"\\nSolving model....\")\nmsol = mdl.solve(TimeLimit=20)"
        },
        {
            "cell_type": "markdown",
            "metadata": {},
            "source": "### Step 3: Investigate the solution and then run an example analysis"
        },
        {
            "cell_type": "code",
            "execution_count": 9,
            "metadata": {},
            "outputs": [
                {
                    "name": "stdout",
                    "output_type": "stream",
                    "text": "Solution: \n   Configuration cost: 28, number of deliveries: 14\n   Delivery  0: config=1, items= <3, 1, 2>\n   Delivery  1: config=1, items= <15, 1, 5>\n   Delivery  2: config=1, items= <0, 1, 3>\n   Delivery  3: config=1, items= <4, 1, 5> <5, 1, 4>\n   Delivery  4: config=2, items= <10, 2, 4> <12, 2, 3>\n   Delivery  5: config=2, items= <17, 2, 11>\n   Delivery  6: config=2, items= <11, 2, 7> <14, 2, 2>\n   Delivery  7: config=2, items= <1, 2, 4>\n   Delivery  8: config=0, items= <2, 0, 3>\n   Delivery  9: config=0, items= <16, 0, 6> <20, 0, 3>\n   Delivery 10: config=0, items= <9, 0, 2> <13, 0, 5>\n   Delivery 11: config=0, items= <6, 0, 11>\n   Delivery 12: config=0, items= <18, 0, 1> <19, 0, 6>\n   Delivery 13: config=0, items= <7, 0, 4> <8, 0, 5>\n"
                }
            ],
            "source": "from sys import stdout\nif msol.is_solution():\n    print(\"Solution: \")\n    ovals = msol.get_objective_values()\n    print(\"   Configuration cost: {}, number of deliveries: {}\".format(ovals[0], ovals[1]))\n    for i in range(maxDeliveries):\n        ld = msol.get_value(load[i])\n        if ld > 0:\n            stdout.write(\"   Delivery {:2d}: config={}\".format(i,msol.get_value(truckConfigs[i])))\n            stdout.write(\", items=\")\n            for j in range(nbOrders):\n                if (msol.get_value(where[j]) == i):\n                    stdout.write(\" <{}, {}, {}>\".format(j, productType[j], volumes[j]))\n            stdout.write('\\n')\nelse:\n    stdout.write(\"Solve status: {}\\n\".format(msol.get_solve_status()))"
        },
        {
            "cell_type": "markdown",
            "metadata": {},
            "source": "## Summary\n\nWe have learned how to set up and use the IBM Decision Optimization CPLEX Modeling for Python to formulate and solve a Constraint Programming model."
        }
    ],
    "metadata": {
        "kernelspec": {
            "display_name": "Python 3.6",
            "language": "python",
            "name": "python3"
        },
        "language_info": {
            "codemirror_mode": {
                "name": "ipython",
                "version": 3
            },
            "file_extension": ".py",
            "mimetype": "text/x-python",
            "name": "python",
            "nbconvert_exporter": "python",
            "pygments_lexer": "ipython3",
            "version": "3.6.9"
        }
    },
    "nbformat": 4,
    "nbformat_minor": 1
}