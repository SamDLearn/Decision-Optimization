{
    "cells": [
        {
            "cell_type": "markdown",
            "metadata": {
                "render": true
            },
            "source": "# Use decision optimization to help a sports league schedule its games"
        },
        {
            "cell_type": "markdown",
            "metadata": {
                "render": true
            },
            "source": "## The business problem:  Games Scheduling in the National Football League \n\n\n* A sports league with two divisions must schedule games so that each team plays every team within its division a given number of times,  and each team plays teams in the other division a given number of times.\n* A team plays exactly one game each week. \n* A pair of teams cannot play each other on consecutive weeks.\n* While a third of a team's intradivisional games must be played in the first half of the season, the preference is for intradivisional games to be held as late as possible in the season.\n    * To model this preference, there is an incentive for intradivisional games that increases each week as a square of the week. \n    * An opponent must be assigned to each team each week to maximize the total of the incentives..\n \n\n \nThis is a type of discrete optimization problem that can be solved by using either **Integer Programming** (IP) or **Constraint Programming** (CP). \n\n>  **Integer Programming** is the class of problems defined as the optimization of a linear function, subject to linear constraints over integer variables. \n\n>  **Constraint Programming** problems generally have discrete decision variables, but the constraints can be logical, and the arithmetic expressions are not restricted to being linear. \n\nWe use an integer programming model is used.  \n"
        },
        {
            "cell_type": "markdown",
            "metadata": {
                "render": true
            },
            "source": "## How  decision optimization can help\n\n* Prescriptive analytics (decision optimization) technology recommends actions that are based on desired outcomes.  It takes into account specific scenarios, resources, and knowledge of past and current events. With this insight, our organization can make better decisions and have greater control of business outcomes.  \n\n* Prescriptive analytics is the next step on the path to insight-based actions. It creates value through synergy with predictive analytics, which analyzes data to predict future outcomes.  \n\n* Prescriptive analytics takes that insight to the next level by suggesting the optimal way to handle that future situation. Organizations that can act fast in dynamic conditions and make superior decisions in uncertain environments gain a strong competitive advantage.  \n<br/>\n\n<u>With prescriptive analytics, we can:</u> \n\n* Automate the complex decisions and trade-offs to better manage our limited resources.\n* Take advantage of a future opportunity or mitigate a future risk.\n* Proactively update recommendations based on changing events.\n* Meet operational goals, increase customer loyalty, prevent threats and fraud, and optimize business processes.\n\n"
        },
        {
            "cell_type": "markdown",
            "metadata": {},
            "source": "## Use decision optimization"
        },
        {
            "cell_type": "markdown",
            "metadata": {
                "render": true
            },
            "source": "### Step 1: Model the data\nIn this scenario, the data is simple. There are eight teams in each division, and the teams must play each team in the division once and each team outside the division once.\n\nUse a Python module, *Collections*, which implements some data structures that will help solve some problems.  *Named tuples* help to define meaning of each position in a tuple.  This helps the code be more readable and self-documenting. We can use named tuples in any place where we use tuples. \n\nIn this example, we create a `namedtuple` to contain information for points.  We are also defining some of the parameters."
        },
        {
            "cell_type": "code",
            "execution_count": 1,
            "metadata": {},
            "outputs": [],
            "source": "# Teams in 1st division\nteam_div1 = [\"Baltimore Ravens\",\"Cincinnati Bengals\", \"Cleveland Browns\",\"Pittsburgh Steelers\",\"Houston Texans\",\n                \"Indianapolis Colts\",\"Jacksonville Jaguars\",\"Tennessee Titans\",\"Buffalo Bills\",\"Miami Dolphins\",\n                \"New England Patriots\",\"New York Jets\",\"Denver Broncos\",\"Kansas City Chiefs\",\"Oakland Raiders\",\n                \"San Diego Chargers\"]\n\n# Teams in 2nd division\nteam_div2 = [\"Chicago Bears\",\"Detroit Lions\",\"Green Bay Packers\",\"Minnesota Vikings\",\"Atlanta Falcons\",\n                \"Carolina Panthers\",\"New Orleans Saints\",\"Tampa Bay Buccaneers\",\"Dallas Cowboys\",\"New York Giants\",\n                \"Philadelphia Eagles\",\"Washington Redskins\",\"Arizona Cardinals\",\"San Francisco 49ers\",\n                \"Seattle Seahawks\",\"St. Louis Rams\"]"
        },
        {
            "cell_type": "code",
            "execution_count": 2,
            "metadata": {},
            "outputs": [],
            "source": "#number_of_matches_to_play = 1  # Number of match to play between two teams on the league\n# Schedule parameters\nnb_teams_in_division = 5\nmax_teams_in_division = 10\nnumber_of_matches_inside_division = 1\nnumber_of_matches_outside_division = 1"
        },
        {
            "cell_type": "markdown",
            "metadata": {},
            "source": "Use basic HTML and a stylesheet to format the data."
        },
        {
            "cell_type": "code",
            "execution_count": 3,
            "metadata": {},
            "outputs": [
                {
                    "data": {
                        "text/html": "<style>\nbody {\n    margin: 0;\n    font-family: Helvetica;\n}\ntable.dataframe {\n    border-collapse: collapse;\n    border: none;\n}\ntable.dataframe tr {\n    border: none;\n}\ntable.dataframe td, table.dataframe th {\n    margin: 0;\n    border: 1px solid white;\n    padding-left: 0.25em;\n    padding-right: 0.25em;\n}\ntable.dataframe th:not(:empty) {\n    background-color: #fec;\n    text-align: left;\n    font-weight: normal;\n}\ntable.dataframe tr:nth-child(2) th:empty {\n    border-left: none;\n    border-right: 1px dashed #888;\n}\ntable.dataframe td {\n    border: 2px solid #ccf;\n    background-color: #f4f4ff;\n}\n    table.dataframe thead th:first-child {\n        display: none;\n    }\n    table.dataframe tbody th {\n        display: none;\n    }\n</style>",
                        "text/plain": "<IPython.core.display.HTML object>"
                    },
                    "execution_count": 3,
                    "metadata": {},
                    "output_type": "execute_result"
                }
            ],
            "source": "CSS = \"\"\"\nbody {\n    margin: 0;\n    font-family: Helvetica;\n}\ntable.dataframe {\n    border-collapse: collapse;\n    border: none;\n}\ntable.dataframe tr {\n    border: none;\n}\ntable.dataframe td, table.dataframe th {\n    margin: 0;\n    border: 1px solid white;\n    padding-left: 0.25em;\n    padding-right: 0.25em;\n}\ntable.dataframe th:not(:empty) {\n    background-color: #fec;\n    text-align: left;\n    font-weight: normal;\n}\ntable.dataframe tr:nth-child(2) th:empty {\n    border-left: none;\n    border-right: 1px dashed #888;\n}\ntable.dataframe td {\n    border: 2px solid #ccf;\n    background-color: #f4f4ff;\n}\n    table.dataframe thead th:first-child {\n        display: none;\n    }\n    table.dataframe tbody th {\n        display: none;\n    }\n\"\"\"\n\nfrom IPython.core.display import HTML\nHTML('<style>{}</style>'.format(CSS))"
        },
        {
            "cell_type": "markdown",
            "metadata": {},
            "source": "Now we will import the *pandas* library. Pandas is an open source Python library for data analysis. It uses two data structures, *Series* and *DataFrame*, which are built on top of *NumPy*.\n\nA **Series** is a one-dimensional object similar to an array, list, or column in a table. It will assign a labeled index to each item in the series. By default, each item receives an index label from 0 to N, where N is the length of the series minus one.\n\nA **DataFrame** is a tabular data structure comprised of rows and columns, similar to a spreadsheet, database table, or R's data.frame object. Think of a DataFrame as a group of Series objects that share an index (the column names).\n\nIn the example, each division (the AFC and the NFC) is part of a DataFrame."
        },
        {
            "cell_type": "code",
            "execution_count": 4,
            "metadata": {},
            "outputs": [],
            "source": "import pandas as pd\n\nteam1 = pd.DataFrame(team_div1)\nteam2 = pd.DataFrame(team_div2)\nteam1.columns = [\"AFC\"]\nteam2.columns = [\"NFC\"]\n\nteams = pd.concat([team1,team2], axis=1)"
        },
        {
            "cell_type": "markdown",
            "metadata": {},
            "source": "The following *display* function is a tool to show different representations of objects. When we issue the  *display(teams)* command, we are sending the output to the notebook so that the result is stored in the document."
        },
        {
            "cell_type": "code",
            "execution_count": 5,
            "metadata": {},
            "outputs": [
                {
                    "data": {
                        "text/html": "<div>\n<style scoped>\n    .dataframe tbody tr th:only-of-type {\n        vertical-align: middle;\n    }\n\n    .dataframe tbody tr th {\n        vertical-align: top;\n    }\n\n    .dataframe thead th {\n        text-align: right;\n    }\n</style>\n<table border=\"1\" class=\"dataframe\">\n  <thead>\n    <tr style=\"text-align: right;\">\n      <th></th>\n      <th>AFC</th>\n      <th>NFC</th>\n    </tr>\n  </thead>\n  <tbody>\n    <tr>\n      <th>0</th>\n      <td>Baltimore Ravens</td>\n      <td>Chicago Bears</td>\n    </tr>\n    <tr>\n      <th>1</th>\n      <td>Cincinnati Bengals</td>\n      <td>Detroit Lions</td>\n    </tr>\n    <tr>\n      <th>2</th>\n      <td>Cleveland Browns</td>\n      <td>Green Bay Packers</td>\n    </tr>\n    <tr>\n      <th>3</th>\n      <td>Pittsburgh Steelers</td>\n      <td>Minnesota Vikings</td>\n    </tr>\n    <tr>\n      <th>4</th>\n      <td>Houston Texans</td>\n      <td>Atlanta Falcons</td>\n    </tr>\n    <tr>\n      <th>5</th>\n      <td>Indianapolis Colts</td>\n      <td>Carolina Panthers</td>\n    </tr>\n    <tr>\n      <th>6</th>\n      <td>Jacksonville Jaguars</td>\n      <td>New Orleans Saints</td>\n    </tr>\n    <tr>\n      <th>7</th>\n      <td>Tennessee Titans</td>\n      <td>Tampa Bay Buccaneers</td>\n    </tr>\n    <tr>\n      <th>8</th>\n      <td>Buffalo Bills</td>\n      <td>Dallas Cowboys</td>\n    </tr>\n    <tr>\n      <th>9</th>\n      <td>Miami Dolphins</td>\n      <td>New York Giants</td>\n    </tr>\n    <tr>\n      <th>10</th>\n      <td>New England Patriots</td>\n      <td>Philadelphia Eagles</td>\n    </tr>\n    <tr>\n      <th>11</th>\n      <td>New York Jets</td>\n      <td>Washington Redskins</td>\n    </tr>\n    <tr>\n      <th>12</th>\n      <td>Denver Broncos</td>\n      <td>Arizona Cardinals</td>\n    </tr>\n    <tr>\n      <th>13</th>\n      <td>Kansas City Chiefs</td>\n      <td>San Francisco 49ers</td>\n    </tr>\n    <tr>\n      <th>14</th>\n      <td>Oakland Raiders</td>\n      <td>Seattle Seahawks</td>\n    </tr>\n    <tr>\n      <th>15</th>\n      <td>San Diego Chargers</td>\n      <td>St. Louis Rams</td>\n    </tr>\n  </tbody>\n</table>\n</div>",
                        "text/plain": "                     AFC                   NFC\n0       Baltimore Ravens         Chicago Bears\n1     Cincinnati Bengals         Detroit Lions\n2       Cleveland Browns     Green Bay Packers\n3    Pittsburgh Steelers     Minnesota Vikings\n4         Houston Texans       Atlanta Falcons\n5     Indianapolis Colts     Carolina Panthers\n6   Jacksonville Jaguars    New Orleans Saints\n7       Tennessee Titans  Tampa Bay Buccaneers\n8          Buffalo Bills        Dallas Cowboys\n9         Miami Dolphins       New York Giants\n10  New England Patriots   Philadelphia Eagles\n11         New York Jets   Washington Redskins\n12        Denver Broncos     Arizona Cardinals\n13    Kansas City Chiefs   San Francisco 49ers\n14       Oakland Raiders      Seattle Seahawks\n15    San Diego Chargers        St. Louis Rams"
                    },
                    "metadata": {},
                    "output_type": "display_data"
                }
            ],
            "source": "from IPython.display import display\n\ndisplay(teams)"
        },
        {
            "cell_type": "markdown",
            "metadata": {
                "render": true
            },
            "source": "### Step 2: Prepare the data\n\nGiven the number of teams in each division and the number of intradivisional and interdivisional games to be played, we can calculate the total number of teams and the number of weeks in the schedule, assuming every team plays exactly one game per week. \n\n\nThe season is split into halves, and the number of the intradivisional games that each team must play in the first half of the season is calculated."
        },
        {
            "cell_type": "code",
            "execution_count": 6,
            "metadata": {},
            "outputs": [],
            "source": "import numpy as np\n    \nnb_teams = 2 * nb_teams_in_division\nteams = range(nb_teams)\n\n# Calculate the number of weeks necessary\nnb_inside_div = (nb_teams_in_division - 1) * number_of_matches_inside_division\nnb_outside_div = nb_teams_in_division * number_of_matches_outside_division\nnb_weeks = nb_inside_div + nb_outside_div\n\n\n# Weeks to schedule\nweeks = range(nb_weeks)\n\n# Season is split into two halves\nfirst_half_weeks = range(int(np.floor(nb_weeks / 2)))\nnb_first_half_games = int(np.floor(nb_weeks / 3))\n"
        },
        {
            "cell_type": "code",
            "execution_count": 7,
            "metadata": {},
            "outputs": [],
            "source": "from collections import namedtuple\n\nmatch = namedtuple(\"match\",[\"team1\",\"team2\",\"is_divisional\"])\n\nmatches = {match(t1,t2, 1 if ( t2 <= nb_teams_in_division or t1 > nb_teams_in_division) else 0)  \n           for t1 in teams for t2 in teams if t1 < t2}"
        },
        {
            "cell_type": "markdown",
            "metadata": {},
            "source": "Number of games to play between pairs depends on whether the pairing is intradivisional or not."
        },
        {
            "cell_type": "code",
            "execution_count": 8,
            "metadata": {},
            "outputs": [],
            "source": "nb_play = { m :  number_of_matches_inside_division if m.is_divisional==1 \n                                                   else number_of_matches_outside_division\n                   for m in matches}"
        },
        {
            "cell_type": "markdown",
            "metadata": {
                "render": true
            },
            "source": "### Step 3: Set up the prescriptive model"
        },
        {
            "cell_type": "code",
            "execution_count": 9,
            "metadata": {},
            "outputs": [
                {
                    "name": "stdout",
                    "output_type": "stream",
                    "text": "* system is: Linux 64bit\n* Python is present, version is 3.5.5\n* docplex is present, version is (2, 8, 125)\n* CPLEX wrapper is present, version is 12.8.0.0, located at: /opt/conda/envs/DSX-Python35/lib/python3.5/site-packages\n"
                }
            ],
            "source": "from docplex.mp.environment import Environment\nenv = Environment()\nenv.print_information()"
        },
        {
            "cell_type": "markdown",
            "metadata": {},
            "source": "#### Create the DOcplex model\nThe model contains all the business constraints and defines the objective."
        },
        {
            "cell_type": "code",
            "execution_count": 10,
            "metadata": {},
            "outputs": [],
            "source": "from docplex.mp.model import Model\n\nmdl = Model(\"sports\")"
        },
        {
            "cell_type": "markdown",
            "metadata": {},
            "source": "#### Define the decision variables"
        },
        {
            "cell_type": "code",
            "execution_count": 11,
            "metadata": {},
            "outputs": [],
            "source": "plays = mdl.binary_var_matrix(matches, weeks, lambda ij: \"x_%s_%d\" %(str(ij[0]), ij[1]))"
        },
        {
            "cell_type": "markdown",
            "metadata": {
                "render": true
            },
            "source": "#### Express the business constraints"
        },
        {
            "cell_type": "markdown",
            "metadata": {},
            "source": "##### Each pair of teams must play the correct number of games."
        },
        {
            "cell_type": "code",
            "execution_count": 12,
            "metadata": {},
            "outputs": [
                {
                    "name": "stdout",
                    "output_type": "stream",
                    "text": "Model: sports\n - number of variables: 405\n   - binary=405, integer=0, continuous=0\n - number of constraints: 45\n   - linear=45\n - parameters: defaults\n"
                }
            ],
            "source": "mdl.add_constraints( mdl.sum(plays[m,w]  for w in weeks) == nb_play[m]\n                   for m in matches)\nmdl.print_information()"
        },
        {
            "cell_type": "markdown",
            "metadata": {},
            "source": "##### Each team must play exactly once in a week.\t "
        },
        {
            "cell_type": "code",
            "execution_count": 13,
            "metadata": {},
            "outputs": [
                {
                    "name": "stdout",
                    "output_type": "stream",
                    "text": "Model: sports\n - number of variables: 405\n   - binary=405, integer=0, continuous=0\n - number of constraints: 135\n   - linear=135\n - parameters: defaults\n"
                }
            ],
            "source": "mdl.add_constraints( mdl.sum(plays[m,w] for m in matches if (m.team1 == t or m.team2 == t) )  == 1\n                   for w in weeks for t in teams)\nmdl.print_information()"
        },
        {
            "cell_type": "markdown",
            "metadata": {},
            "source": "##### Games between the same teams cannot be on successive weeks."
        },
        {
            "cell_type": "code",
            "execution_count": 14,
            "metadata": {},
            "outputs": [
                {
                    "name": "stdout",
                    "output_type": "stream",
                    "text": "Model: sports\n - number of variables: 405\n   - binary=405, integer=0, continuous=0\n - number of constraints: 495\n   - linear=495\n - parameters: defaults\n"
                }
            ],
            "source": "mdl.add_constraints( plays[m,w] + plays[m,w+1] <= 1 \n                   for w in weeks\n                   for m in matches\n                   if w < nb_weeks-1)\nmdl.print_information()"
        },
        {
            "cell_type": "markdown",
            "metadata": {},
            "source": "##### Some intradivisional games should be in the first half.    "
        },
        {
            "cell_type": "code",
            "execution_count": 15,
            "metadata": {},
            "outputs": [
                {
                    "name": "stdout",
                    "output_type": "stream",
                    "text": "Model: sports\n - number of variables: 405\n   - binary=405, integer=0, continuous=0\n - number of constraints: 505\n   - linear=505\n - parameters: defaults\n"
                }
            ],
            "source": "mdl.add_constraints( mdl.sum(plays[m,w]  for w in first_half_weeks for  m in matches \n                            if (((m.team1 == t or m.team2 == t) and m.is_divisional == 1 )))\n                    >= nb_first_half_games\n                   for t in teams)\nmdl.print_information()"
        },
        {
            "cell_type": "markdown",
            "metadata": {
                "render": true
            },
            "source": "#### Express the objective\nThe objective function for this example is designed to force intradivisional games to occur as late in the season as possible. The incentive for intradivisional games increases by week. There is no incentive for interdivisional games. "
        },
        {
            "cell_type": "code",
            "execution_count": 16,
            "metadata": {},
            "outputs": [],
            "source": "gain = { w : w*w for w in weeks}\n\n# If an intradivisional pair plays in week w, Gain[w] is added to the objective.\nmdl.maximize( mdl.sum (m.is_divisional * gain[w] * plays[m,w] for m in matches for w in weeks) )"
        },
        {
            "cell_type": "markdown",
            "metadata": {
                "render": true
            },
            "source": "### Solve with Decision Optimization \n\nWe will get the best solution found after n seconds, due to a time limit parameter.\n"
        },
        {
            "cell_type": "code",
            "execution_count": 17,
            "metadata": {},
            "outputs": [
                {
                    "name": "stdout",
                    "output_type": "stream",
                    "text": "Model: sports\n - number of variables: 405\n   - binary=405, integer=0, continuous=0\n - number of constraints: 505\n   - linear=505\n - parameters: defaults\n* model sports solved with objective = 260\n"
                }
            ],
            "source": "mdl.print_information()\n\nassert mdl.solve(), \"!!! Solve of the model fails\"\nmdl.report()"
        },
        {
            "cell_type": "markdown",
            "metadata": {
                "render": true
            },
            "source": "### Step 4: Investigate the solution and then run an example analysis"
        },
        {
            "cell_type": "markdown",
            "metadata": {},
            "source": "Determine which of the scheduled games will be a replay of one of the last 10 Super Bowls.<br>\nStart by creating a pandas DataFrame that contains the year and teams that played the last 10 Super Bowls."
        },
        {
            "cell_type": "code",
            "execution_count": 18,
            "metadata": {},
            "outputs": [],
            "source": "team_league = dict(list({t : team_div1[t] for t in range(nb_teams_in_division) }.items()) +  \\\n                list({t+nb_teams_in_division : team_div2[t] for t in range(nb_teams_in_division) }.items()))"
        },
        {
            "cell_type": "code",
            "execution_count": 19,
            "metadata": {},
            "outputs": [],
            "source": "sol = namedtuple(\"solution\",[\"week\",\"is_divisional\", \"team1\", \"team2\"])\n\nsolution = [sol(w, m.is_divisional, team_league[m.team1], team_league[m.team2]) for m in matches for w in weeks if plays[m,w].solution_value == 1]"
        },
        {
            "cell_type": "code",
            "execution_count": 20,
            "metadata": {},
            "outputs": [],
            "source": "nfl_finals = [(\"2016\", \"Carolina Panthers\", \"Denver Broncos\"),\n              (\"2015\", \"New England Patriots\", \"Seattle Seahawks\"),\n              (\"2014\", \"Seattle Seahawks\", \"Denver Broncos\"),\n              (\"2013\", \"Baltimore Ravens\", \"San Francisco 49ers\"),\n              (\"2012\", \"New York Giants\", \"New England Patriots \"),\n              (\"2011\", \"Green Bay Packers\", \"Pittsburgh Steelers\"),\n              (\"2010\", \"New Orleans Saints\", \"Indianapolis Colts\"),\n              (\"2009\", \"Pittsburgh Steelers\", \"Arizona Cardinals\"),\n              (\"2008\", \"New York Giants\", \"New England Patriots\"),\n              (\"2007\", \"Indianapolis Colts\", \"Chicago Bears\")\n             ]\nnfl_meetings = {(t[1], t[2]) for t in nfl_finals}\nwinners_bd = pd.DataFrame(nfl_finals)\nwinners_bd.columns = [\"year\", \"team1\", \"team2\"]"
        },
        {
            "cell_type": "code",
            "execution_count": 21,
            "metadata": {
                "render": true
            },
            "outputs": [
                {
                    "data": {
                        "text/html": "<div>\n<style scoped>\n    .dataframe tbody tr th:only-of-type {\n        vertical-align: middle;\n    }\n\n    .dataframe tbody tr th {\n        vertical-align: top;\n    }\n\n    .dataframe thead th {\n        text-align: right;\n    }\n</style>\n<table border=\"1\" class=\"dataframe\">\n  <thead>\n    <tr style=\"text-align: right;\">\n      <th></th>\n      <th>year</th>\n      <th>team1</th>\n      <th>team2</th>\n    </tr>\n  </thead>\n  <tbody>\n    <tr>\n      <th>0</th>\n      <td>2016</td>\n      <td>Carolina Panthers</td>\n      <td>Denver Broncos</td>\n    </tr>\n    <tr>\n      <th>1</th>\n      <td>2015</td>\n      <td>New England Patriots</td>\n      <td>Seattle Seahawks</td>\n    </tr>\n    <tr>\n      <th>2</th>\n      <td>2014</td>\n      <td>Seattle Seahawks</td>\n      <td>Denver Broncos</td>\n    </tr>\n    <tr>\n      <th>3</th>\n      <td>2013</td>\n      <td>Baltimore Ravens</td>\n      <td>San Francisco 49ers</td>\n    </tr>\n    <tr>\n      <th>4</th>\n      <td>2012</td>\n      <td>New York Giants</td>\n      <td>New England Patriots</td>\n    </tr>\n    <tr>\n      <th>5</th>\n      <td>2011</td>\n      <td>Green Bay Packers</td>\n      <td>Pittsburgh Steelers</td>\n    </tr>\n    <tr>\n      <th>6</th>\n      <td>2010</td>\n      <td>New Orleans Saints</td>\n      <td>Indianapolis Colts</td>\n    </tr>\n    <tr>\n      <th>7</th>\n      <td>2009</td>\n      <td>Pittsburgh Steelers</td>\n      <td>Arizona Cardinals</td>\n    </tr>\n    <tr>\n      <th>8</th>\n      <td>2008</td>\n      <td>New York Giants</td>\n      <td>New England Patriots</td>\n    </tr>\n    <tr>\n      <th>9</th>\n      <td>2007</td>\n      <td>Indianapolis Colts</td>\n      <td>Chicago Bears</td>\n    </tr>\n  </tbody>\n</table>\n</div>",
                        "text/plain": "   year                 team1                  team2\n0  2016     Carolina Panthers         Denver Broncos\n1  2015  New England Patriots       Seattle Seahawks\n2  2014      Seattle Seahawks         Denver Broncos\n3  2013      Baltimore Ravens    San Francisco 49ers\n4  2012       New York Giants  New England Patriots \n5  2011     Green Bay Packers    Pittsburgh Steelers\n6  2010    New Orleans Saints     Indianapolis Colts\n7  2009   Pittsburgh Steelers      Arizona Cardinals\n8  2008       New York Giants   New England Patriots\n9  2007    Indianapolis Colts          Chicago Bears"
                    },
                    "metadata": {},
                    "output_type": "display_data"
                }
            ],
            "source": "display(winners_bd)"
        },
        {
            "cell_type": "markdown",
            "metadata": {},
            "source": "Now look for the games in our solution that are replays of one of the past 10 Super Bowls."
        },
        {
            "cell_type": "code",
            "execution_count": 22,
            "metadata": {},
            "outputs": [
                {
                    "name": "stdout",
                    "output_type": "stream",
                    "text": "[(4, 'February', 'Green Bay Packers', 'Pittsburgh Steelers')]\n"
                }
            ],
            "source": "months = [\"January\", \"February\", \"March\", \"April\", \"May\", \"June\", \n          \"July\", \"August\", \"September\", \"October\", \"November\", \"December\"]\nreport = []\nfor m in solution:\n    if (m.team1, m.team2) in nfl_meetings:\n        report.append((m.week, months[m.week//4], m.team1, m.team2))\n    if (m.team2, m.team1) in nfl_meetings: \n        report.append((m.week, months[m.week//4], m.team2, m.team1))\n\nprint(report)\nmatches_bd = pd.DataFrame(report)\nmatches_bd.columns = [\"week\", \"Month\", \"Team1\", \"Team2\"]"
        },
        {
            "cell_type": "code",
            "execution_count": 23,
            "metadata": {
                "render": true
            },
            "outputs": [
                {
                    "data": {
                        "text/html": "<div>\n<style scoped>\n    .dataframe tbody tr th:only-of-type {\n        vertical-align: middle;\n    }\n\n    .dataframe tbody tr th {\n        vertical-align: top;\n    }\n\n    .dataframe thead th {\n        text-align: right;\n    }\n</style>\n<table border=\"1\" class=\"dataframe\">\n  <thead>\n    <tr style=\"text-align: right;\">\n      <th></th>\n      <th>week</th>\n      <th>Month</th>\n      <th>Team1</th>\n      <th>Team2</th>\n    </tr>\n  </thead>\n  <tbody>\n    <tr>\n      <th>0</th>\n      <td>4</td>\n      <td>February</td>\n      <td>Green Bay Packers</td>\n      <td>Pittsburgh Steelers</td>\n    </tr>\n  </tbody>\n</table>\n</div>",
                        "text/plain": "   week     Month              Team1                Team2\n0     4  February  Green Bay Packers  Pittsburgh Steelers"
                    },
                    "metadata": {},
                    "output_type": "display_data"
                }
            ],
            "source": "try: #pandas >= 0.17\n    display(matches_bd.sort_values(by='week'))\nexcept:\n    display(matches_bd.sort('week'))"
        },
        {
            "cell_type": "markdown",
            "metadata": {},
            "source": "## Summary\n\n\nWe have learned how to set up and use IBM Decision Optimization CPLEX Modeling for Python to formulate an Integer Programming model and solve it with CPLEX."
        },
        {
            "cell_type": "code",
            "execution_count": null,
            "metadata": {},
            "outputs": [],
            "source": ""
        }
    ],
    "metadata": {
        "kernelspec": {
            "display_name": "Python 3.6",
            "language": "python",
            "name": "python3"
        },
        "language_info": {
            "codemirror_mode": {
                "name": "ipython",
                "version": 3
            },
            "file_extension": ".py",
            "mimetype": "text/x-python",
            "name": "python",
            "nbconvert_exporter": "python",
            "pygments_lexer": "ipython3",
            "version": "3.6.9"
        }
    },
    "nbformat": 4,
    "nbformat_minor": 1
}