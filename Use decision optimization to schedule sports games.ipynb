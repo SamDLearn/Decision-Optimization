{
    "cells": [
        {
            "metadata": {
                "render": true
            },
            "cell_type": "markdown",
            "source": "# Use decision optimization to help a sports league schedule its games\n\nThis tutorial includes everything you need to set up decision optimization engines, build mathematical programming models, and arrive at a good working schedule for a sports league's games.\n\nTable of contents:\n\n-  [The business problem](#The-business-problem:--Games-Scheduling-in-the-National-Football-League)\n*  [How decision optimization (prescriptive analytics) can help](#How--decision-optimization-can-help)\n*  [Use decision optimization](#Use-decision-optimization)\n    -  [Step 1: Model the Data](#Step-1:-Model-the-data)\n    *  [Step 2: Prepare the data](#Step-2:-Prepare-the-data)\n    -  [Step 3: Set up the prescriptive model](#Step-3:-Set-up-the-prescriptive-model)\n        * [Define the decision variables](#Define-the-decision-variables)\n        * [Express the business constraints](#Express-the-business-constraints)\n        * [Express the objective](#Express-the-objective)\n        * [Solve with Decision Optimization](#Solve-with-Decision-Optimization)\n    *  [Step 4: Investigate the solution and run an example analysis](#Step-4:-Investigate-the-solution-and-then-run-an-example-analysis)\n*  [Summary](#Summary)\n"
        },
        {
            "metadata": {
                "render": true
            },
            "cell_type": "markdown",
            "source": "## The business problem:  Games Scheduling in the National Football League \n\n\n* A sports league with two divisions must schedule games so that each team plays every team within its division a given number of times,  and each team plays teams in the other division a given number of times.\n* A team plays exactly one game each week. \n* A pair of teams cannot play each other on consecutive weeks.\n* While a third of a team's intradivisional games must be played in the first half of the season, the preference is for intradivisional games to be held as late as possible in the season.\n    * To model this preference, there is an incentive for intradivisional games that increases each week as a square of the week. \n    * An opponent must be assigned to each team each week to maximize the total of the incentives..\n \n\n \nThis is a type of discrete optimization problem that can be solved by using either **Integer Programming** (IP) or **Constraint Programming** (CP). \n\n>  **Integer Programming** is the class of problems defined as the optimization of a linear function, subject to linear constraints over integer variables. \n\n>  **Constraint Programming** problems generally have discrete decision variables, but the constraints can be logical, and the arithmetic expressions are not restricted to being linear. \n\nIn this tutorial, an integer programming model is used.  \n"
        },
        {
            "metadata": {
                "render": true
            },
            "cell_type": "markdown",
            "source": "## How  decision optimization can help\n\n* Prescriptive analytics (decision optimization) technology recommends actions that are based on desired outcomes.  It takes into account specific scenarios, resources, and knowledge of past and current events. With this insight, your organization can make better decisions and have greater control of business outcomes.  \n\n* Prescriptive analytics is the next step on the path to insight-based actions. It creates value through synergy with predictive analytics, which analyzes data to predict future outcomes.  \n\n* Prescriptive analytics takes that insight to the next level by suggesting the optimal way to handle that future situation. Organizations that can act fast in dynamic conditions and make superior decisions in uncertain environments gain a strong competitive advantage.  \n<br/>\n\n<u>With prescriptive analytics, you can:</u> \n\n* Automate the complex decisions and trade-offs to better manage your limited resources.\n* Take advantage of a future opportunity or mitigate a future risk.\n* Proactively update recommendations based on changing events.\n* Meet operational goals, increase customer loyalty, prevent threats and fraud, and optimize business processes.\n\n"
        },
        {
            "metadata": {},
            "cell_type": "markdown",
            "source": "## Use decision optimization"
        },
        {
            "metadata": {
                "render": true
            },
            "cell_type": "markdown",
            "source": "### Step 1: Model the data\nIn this scenario, the data is simple. There are eight teams in each division, and the teams must play each team in the division once and each team outside the division once.\n\nUse a Python module, *Collections*, which implements some data structures that will help solve some problems.  *Named tuples* help to define meaning of each position in a tuple.  This helps the code be more readable and self-documenting. You can use named tuples in any place where you use tuples. \n\nIn this example, you create a `namedtuple` to contain information for points.  You are also defining some of the parameters."
        },
        {
            "metadata": {},
            "cell_type": "code",
            "source": "# Teams in 1st division\nteam_div1 = [\"Baltimore Ravens\",\"Cincinnati Bengals\", \"Cleveland Browns\",\"Pittsburgh Steelers\",\"Houston Texans\",\n                \"Indianapolis Colts\",\"Jacksonville Jaguars\",\"Tennessee Titans\",\"Buffalo Bills\",\"Miami Dolphins\",\n                \"New England Patriots\",\"New York Jets\",\"Denver Broncos\",\"Kansas City Chiefs\",\"Oakland Raiders\",\n                \"San Diego Chargers\"]\n\n# Teams in 2nd division\nteam_div2 = [\"Chicago Bears\",\"Detroit Lions\",\"Green Bay Packers\",\"Minnesota Vikings\",\"Atlanta Falcons\",\n                \"Carolina Panthers\",\"New Orleans Saints\",\"Tampa Bay Buccaneers\",\"Dallas Cowboys\",\"New York Giants\",\n                \"Philadelphia Eagles\",\"Washington Redskins\",\"Arizona Cardinals\",\"San Francisco 49ers\",\n                \"Seattle Seahawks\",\"St. Louis Rams\"]",
            "execution_count": 1,
            "outputs": []
        },
        {
            "metadata": {},
            "cell_type": "code",
            "source": "#number_of_matches_to_play = 1  # Number of match to play between two teams on the league\n# Schedule parameters\nnb_teams_in_division = 5\nmax_teams_in_division = 10\nnumber_of_matches_inside_division = 1\nnumber_of_matches_outside_division = 1",
            "execution_count": 2,
            "outputs": []
        },
        {
            "metadata": {},
            "cell_type": "markdown",
            "source": "Use basic HTML and a stylesheet to format the data."
        },
        {
            "metadata": {},
            "cell_type": "code",
            "source": "CSS = \"\"\"\nbody {\n    margin: 0;\n    font-family: Helvetica;\n}\ntable.dataframe {\n    border-collapse: collapse;\n    border: none;\n}\ntable.dataframe tr {\n    border: none;\n}\ntable.dataframe td, table.dataframe th {\n    margin: 0;\n    border: 1px solid white;\n    padding-left: 0.25em;\n    padding-right: 0.25em;\n}\ntable.dataframe th:not(:empty) {\n    background-color: #fec;\n    text-align: left;\n    font-weight: normal;\n}\ntable.dataframe tr:nth-child(2) th:empty {\n    border-left: none;\n    border-right: 1px dashed #888;\n}\ntable.dataframe td {\n    border: 2px solid #ccf;\n    background-color: #f4f4ff;\n}\n    table.dataframe thead th:first-child {\n        display: none;\n    }\n    table.dataframe tbody th {\n        display: none;\n    }\n\"\"\"\n\nfrom IPython.core.display import HTML\nHTML('<style>{}</style>'.format(CSS))",
            "execution_count": 3,
            "outputs": [
                {
                    "data": {
                        "text/html": "<style>\nbody {\n    margin: 0;\n    font-family: Helvetica;\n}\ntable.dataframe {\n    border-collapse: collapse;\n    border: none;\n}\ntable.dataframe tr {\n    border: none;\n}\ntable.dataframe td, table.dataframe th {\n    margin: 0;\n    border: 1px solid white;\n    padding-left: 0.25em;\n    padding-right: 0.25em;\n}\ntable.dataframe th:not(:empty) {\n    background-color: #fec;\n    text-align: left;\n    font-weight: normal;\n}\ntable.dataframe tr:nth-child(2) th:empty {\n    border-left: none;\n    border-right: 1px dashed #888;\n}\ntable.dataframe td {\n    border: 2px solid #ccf;\n    background-color: #f4f4ff;\n}\n    table.dataframe thead th:first-child {\n        display: none;\n    }\n    table.dataframe tbody th {\n        display: none;\n    }\n</style>",
                        "text/plain": "<IPython.core.display.HTML object>"
                    },
                    "execution_count": 3,
                    "metadata": {},
                    "output_type": "execute_result"
                }
            ]
        },
        {
            "metadata": {},
            "cell_type": "markdown",
            "source": "Now you will import the *pandas* library. Pandas is an open source Python library for data analysis. It uses two data structures, *Series* and *DataFrame*, which are built on top of *NumPy*.\n\nA **Series** is a one-dimensional object similar to an array, list, or column in a table. It will assign a labeled index to each item in the series. By default, each item receives an index label from 0 to N, where N is the length of the series minus one.\n\nA **DataFrame** is a tabular data structure comprised of rows and columns, similar to a spreadsheet, database table, or R's data.frame object. Think of a DataFrame as a group of Series objects that share an index (the column names).\n\nIn the example, each division (the AFC and the NFC) is part of a DataFrame."
        },
        {
            "metadata": {},
            "cell_type": "code",
            "source": "import pandas as pd\n\nteam1 = pd.DataFrame(team_div1)\nteam2 = pd.DataFrame(team_div2)\nteam1.columns = [\"AFC\"]\nteam2.columns = [\"NFC\"]\n\nteams = pd.concat([team1,team2], axis=1)",
            "execution_count": 4,
            "outputs": []
        },
        {
            "metadata": {},
            "cell_type": "markdown",
            "source": "The following *display* function is a tool to show different representations of objects. When you issue the  *display(teams)* command, you are sending the output to the notebook so that the result is stored in the document."
        },
        {
            "metadata": {},
            "cell_type": "code",
            "source": "from IPython.display import display\n\ndisplay(teams)",
            "execution_count": 5,
            "outputs": [
                {
                    "data": {
                        "text/html": "<div>\n<style scoped>\n    .dataframe tbody tr th:only-of-type {\n        vertical-align: middle;\n    }\n\n    .dataframe tbody tr th {\n        vertical-align: top;\n    }\n\n    .dataframe thead th {\n        text-align: right;\n    }\n</style>\n<table border=\"1\" class=\"dataframe\">\n  <thead>\n    <tr style=\"text-align: right;\">\n      <th></th>\n      <th>AFC</th>\n      <th>NFC</th>\n    </tr>\n  </thead>\n  <tbody>\n    <tr>\n      <th>0</th>\n      <td>Baltimore Ravens</td>\n      <td>Chicago Bears</td>\n    </tr>\n    <tr>\n      <th>1</th>\n      <td>Cincinnati Bengals</td>\n      <td>Detroit Lions</td>\n    </tr>\n    <tr>\n      <th>2</th>\n      <td>Cleveland Browns</td>\n      <td>Green Bay Packers</td>\n    </tr>\n    <tr>\n      <th>3</th>\n      <td>Pittsburgh Steelers</td>\n      <td>Minnesota Vikings</td>\n    </tr>\n    <tr>\n      <th>4</th>\n      <td>Houston Texans</td>\n      <td>Atlanta Falcons</td>\n    </tr>\n    <tr>\n      <th>5</th>\n      <td>Indianapolis Colts</td>\n      <td>Carolina Panthers</td>\n    </tr>\n    <tr>\n      <th>6</th>\n      <td>Jacksonville Jaguars</td>\n      <td>New Orleans Saints</td>\n    </tr>\n    <tr>\n      <th>7</th>\n      <td>Tennessee Titans</td>\n      <td>Tampa Bay Buccaneers</td>\n    </tr>\n    <tr>\n      <th>8</th>\n      <td>Buffalo Bills</td>\n      <td>Dallas Cowboys</td>\n    </tr>\n    <tr>\n      <th>9</th>\n      <td>Miami Dolphins</td>\n      <td>New York Giants</td>\n    </tr>\n    <tr>\n      <th>10</th>\n      <td>New England Patriots</td>\n      <td>Philadelphia Eagles</td>\n    </tr>\n    <tr>\n      <th>11</th>\n      <td>New York Jets</td>\n      <td>Washington Redskins</td>\n    </tr>\n    <tr>\n      <th>12</th>\n      <td>Denver Broncos</td>\n      <td>Arizona Cardinals</td>\n    </tr>\n    <tr>\n      <th>13</th>\n      <td>Kansas City Chiefs</td>\n      <td>San Francisco 49ers</td>\n    </tr>\n    <tr>\n      <th>14</th>\n      <td>Oakland Raiders</td>\n      <td>Seattle Seahawks</td>\n    </tr>\n    <tr>\n      <th>15</th>\n      <td>San Diego Chargers</td>\n      <td>St. Louis Rams</td>\n    </tr>\n  </tbody>\n</table>\n</div>",
                        "text/plain": "                     AFC                   NFC\n0       Baltimore Ravens         Chicago Bears\n1     Cincinnati Bengals         Detroit Lions\n2       Cleveland Browns     Green Bay Packers\n3    Pittsburgh Steelers     Minnesota Vikings\n4         Houston Texans       Atlanta Falcons\n5     Indianapolis Colts     Carolina Panthers\n6   Jacksonville Jaguars    New Orleans Saints\n7       Tennessee Titans  Tampa Bay Buccaneers\n8          Buffalo Bills        Dallas Cowboys\n9         Miami Dolphins       New York Giants\n10  New England Patriots   Philadelphia Eagles\n11         New York Jets   Washington Redskins\n12        Denver Broncos     Arizona Cardinals\n13    Kansas City Chiefs   San Francisco 49ers\n14       Oakland Raiders      Seattle Seahawks\n15    San Diego Chargers        St. Louis Rams"
                    },
                    "metadata": {},
                    "output_type": "display_data"
                }
            ]
        },
        {
            "metadata": {
                "render": true
            },
            "cell_type": "markdown",
            "source": "### Step 2: Prepare the data\n\nGiven the number of teams in each division and the number of intradivisional and interdivisional games to be played, you can calculate the total number of teams and the number of weeks in the schedule, assuming every team plays exactly one game per week. \n\n\nThe season is split into halves, and the number of the intradivisional games that each team must play in the first half of the season is calculated."
        },
        {
            "metadata": {},
            "cell_type": "code",
            "source": "import numpy as np\n    \nnb_teams = 2 * nb_teams_in_division\nteams = range(nb_teams)\n\n# Calculate the number of weeks necessary\nnb_inside_div = (nb_teams_in_division - 1) * number_of_matches_inside_division\nnb_outside_div = nb_teams_in_division * number_of_matches_outside_division\nnb_weeks = nb_inside_div + nb_outside_div\n\n\n# Weeks to schedule\nweeks = range(nb_weeks)\n\n# Season is split into two halves\nfirst_half_weeks = range(int(np.floor(nb_weeks / 2)))\nnb_first_half_games = int(np.floor(nb_weeks / 3))\n",
            "execution_count": 6,
            "outputs": []
        },
        {
            "metadata": {},
            "cell_type": "code",
            "source": "from collections import namedtuple\n\nmatch = namedtuple(\"match\",[\"team1\",\"team2\",\"is_divisional\"])\n\nmatches = {match(t1,t2, 1 if ( t2 <= nb_teams_in_division or t1 > nb_teams_in_division) else 0)  \n           for t1 in teams for t2 in teams if t1 < t2}",
            "execution_count": 7,
            "outputs": []
        },
        {
            "metadata": {},
            "cell_type": "markdown",
            "source": "Number of games to play between pairs depends on whether the pairing is intradivisional or not."
        },
        {
            "metadata": {},
            "cell_type": "code",
            "source": "nb_play = { m :  number_of_matches_inside_division if m.is_divisional==1 \n                                                   else number_of_matches_outside_division\n                   for m in matches}",
            "execution_count": 8,
            "outputs": []
        },
        {
            "metadata": {
                "render": true
            },
            "cell_type": "markdown",
            "source": "### Step 3: Set up the prescriptive model"
        },
        {
            "metadata": {},
            "cell_type": "code",
            "source": "from docplex.mp.environment import Environment\nenv = Environment()\nenv.print_information()",
            "execution_count": 9,
            "outputs": [
                {
                    "name": "stdout",
                    "output_type": "stream",
                    "text": "* system is: Linux 64bit\n* Python is present, version is 3.5.5\n* docplex is present, version is (2, 8, 125)\n* CPLEX wrapper is present, version is 12.8.0.0, located at: /opt/conda/envs/DSX-Python35/lib/python3.5/site-packages\n"
                }
            ]
        },
        {
            "metadata": {},
            "cell_type": "markdown",
            "source": "#### Create the DOcplex model\nThe model contains all the business constraints and defines the objective."
        },
        {
            "metadata": {},
            "cell_type": "code",
            "source": "from docplex.mp.model import Model\n\nmdl = Model(\"sports\")",
            "execution_count": 10,
            "outputs": []
        },
        {
            "metadata": {},
            "cell_type": "markdown",
            "source": "#### Define the decision variables"
        },
        {
            "metadata": {},
            "cell_type": "code",
            "source": "plays = mdl.binary_var_matrix(matches, weeks, lambda ij: \"x_%s_%d\" %(str(ij[0]), ij[1]))",
            "execution_count": 11,
            "outputs": []
        },
        {
            "metadata": {
                "render": true
            },
            "cell_type": "markdown",
            "source": "#### Express the business constraints"
        },
        {
            "metadata": {},
            "cell_type": "markdown",
            "source": "##### Each pair of teams must play the correct number of games."
        },
        {
            "metadata": {},
            "cell_type": "code",
            "source": "mdl.add_constraints( mdl.sum(plays[m,w]  for w in weeks) == nb_play[m]\n                   for m in matches)\nmdl.print_information()",
            "execution_count": 12,
            "outputs": [
                {
                    "name": "stdout",
                    "output_type": "stream",
                    "text": "Model: sports\n - number of variables: 405\n   - binary=405, integer=0, continuous=0\n - number of constraints: 45\n   - linear=45\n - parameters: defaults\n"
                }
            ]
        },
        {
            "metadata": {},
            "cell_type": "markdown",
            "source": "##### Each team must play exactly once in a week.\t "
        },
        {
            "metadata": {},
            "cell_type": "code",
            "source": "mdl.add_constraints( mdl.sum(plays[m,w] for m in matches if (m.team1 == t or m.team2 == t) )  == 1\n                   for w in weeks for t in teams)\nmdl.print_information()",
            "execution_count": 13,
            "outputs": [
                {
                    "name": "stdout",
                    "output_type": "stream",
                    "text": "Model: sports\n - number of variables: 405\n   - binary=405, integer=0, continuous=0\n - number of constraints: 135\n   - linear=135\n - parameters: defaults\n"
                }
            ]
        },
        {
            "metadata": {},
            "cell_type": "markdown",
            "source": "##### Games between the same teams cannot be on successive weeks."
        },
        {
            "metadata": {},
            "cell_type": "code",
            "source": "mdl.add_constraints( plays[m,w] + plays[m,w+1] <= 1 \n                   for w in weeks\n                   for m in matches\n                   if w < nb_weeks-1)\nmdl.print_information()",
            "execution_count": 14,
            "outputs": [
                {
                    "name": "stdout",
                    "output_type": "stream",
                    "text": "Model: sports\n - number of variables: 405\n   - binary=405, integer=0, continuous=0\n - number of constraints: 495\n   - linear=495\n - parameters: defaults\n"
                }
            ]
        },
        {
            "metadata": {},
            "cell_type": "markdown",
            "source": "##### Some intradivisional games should be in the first half.    "
        },
        {
            "metadata": {},
            "cell_type": "code",
            "source": "mdl.add_constraints( mdl.sum(plays[m,w]  for w in first_half_weeks for  m in matches \n                            if (((m.team1 == t or m.team2 == t) and m.is_divisional == 1 )))\n                    >= nb_first_half_games\n                   for t in teams)\nmdl.print_information()",
            "execution_count": 15,
            "outputs": [
                {
                    "name": "stdout",
                    "output_type": "stream",
                    "text": "Model: sports\n - number of variables: 405\n   - binary=405, integer=0, continuous=0\n - number of constraints: 505\n   - linear=505\n - parameters: defaults\n"
                }
            ]
        },
        {
            "metadata": {
                "render": true
            },
            "cell_type": "markdown",
            "source": "#### Express the objective\nThe objective function for this example is designed to force intradivisional games to occur as late in the season as possible. The incentive for intradivisional games increases by week. There is no incentive for interdivisional games. "
        },
        {
            "metadata": {},
            "cell_type": "code",
            "source": "gain = { w : w*w for w in weeks}\n\n# If an intradivisional pair plays in week w, Gain[w] is added to the objective.\nmdl.maximize( mdl.sum (m.is_divisional * gain[w] * plays[m,w] for m in matches for w in weeks) )",
            "execution_count": 16,
            "outputs": []
        },
        {
            "metadata": {
                "render": true
            },
            "cell_type": "markdown",
            "source": "### Solve with Decision Optimization \n\nYou will get the best solution found after n seconds, due to a time limit parameter.\n"
        },
        {
            "metadata": {},
            "cell_type": "code",
            "source": "mdl.print_information()\n\nassert mdl.solve(), \"!!! Solve of the model fails\"\nmdl.report()",
            "execution_count": 17,
            "outputs": [
                {
                    "name": "stdout",
                    "output_type": "stream",
                    "text": "Model: sports\n - number of variables: 405\n   - binary=405, integer=0, continuous=0\n - number of constraints: 505\n   - linear=505\n - parameters: defaults\n* model sports solved with objective = 260\n"
                }
            ]
        },
        {
            "metadata": {
                "render": true
            },
            "cell_type": "markdown",
            "source": "### Step 4: Investigate the solution and then run an example analysis"
        },
        {
            "metadata": {},
            "cell_type": "markdown",
            "source": "Determine which of the scheduled games will be a replay of one of the last 10 Super Bowls.<br>\nStart by creating a pandas DataFrame that contains the year and teams that played the last 10 Super Bowls."
        },
        {
            "metadata": {},
            "cell_type": "code",
            "source": "team_league = dict(list({t : team_div1[t] for t in range(nb_teams_in_division) }.items()) +  \\\n                list({t+nb_teams_in_division : team_div2[t] for t in range(nb_teams_in_division) }.items()))",
            "execution_count": 18,
            "outputs": []
        },
        {
            "metadata": {},
            "cell_type": "code",
            "source": "sol = namedtuple(\"solution\",[\"week\",\"is_divisional\", \"team1\", \"team2\"])\n\nsolution = [sol(w, m.is_divisional, team_league[m.team1], team_league[m.team2]) for m in matches for w in weeks if plays[m,w].solution_value == 1]",
            "execution_count": 19,
            "outputs": []
        },
        {
            "metadata": {},
            "cell_type": "code",
            "source": "nfl_finals = [(\"2016\", \"Carolina Panthers\", \"Denver Broncos\"),\n              (\"2015\", \"New England Patriots\", \"Seattle Seahawks\"),\n              (\"2014\", \"Seattle Seahawks\", \"Denver Broncos\"),\n              (\"2013\", \"Baltimore Ravens\", \"San Francisco 49ers\"),\n              (\"2012\", \"New York Giants\", \"New England Patriots \"),\n              (\"2011\", \"Green Bay Packers\", \"Pittsburgh Steelers\"),\n              (\"2010\", \"New Orleans Saints\", \"Indianapolis Colts\"),\n              (\"2009\", \"Pittsburgh Steelers\", \"Arizona Cardinals\"),\n              (\"2008\", \"New York Giants\", \"New England Patriots\"),\n              (\"2007\", \"Indianapolis Colts\", \"Chicago Bears\")\n             ]\nnfl_meetings = {(t[1], t[2]) for t in nfl_finals}\nwinners_bd = pd.DataFrame(nfl_finals)\nwinners_bd.columns = [\"year\", \"team1\", \"team2\"]",
            "execution_count": 20,
            "outputs": []
        },
        {
            "metadata": {
                "render": true
            },
            "cell_type": "code",
            "source": "display(winners_bd)",
            "execution_count": 21,
            "outputs": [
                {
                    "data": {
                        "text/html": "<div>\n<style scoped>\n    .dataframe tbody tr th:only-of-type {\n        vertical-align: middle;\n    }\n\n    .dataframe tbody tr th {\n        vertical-align: top;\n    }\n\n    .dataframe thead th {\n        text-align: right;\n    }\n</style>\n<table border=\"1\" class=\"dataframe\">\n  <thead>\n    <tr style=\"text-align: right;\">\n      <th></th>\n      <th>year</th>\n      <th>team1</th>\n      <th>team2</th>\n    </tr>\n  </thead>\n  <tbody>\n    <tr>\n      <th>0</th>\n      <td>2016</td>\n      <td>Carolina Panthers</td>\n      <td>Denver Broncos</td>\n    </tr>\n    <tr>\n      <th>1</th>\n      <td>2015</td>\n      <td>New England Patriots</td>\n      <td>Seattle Seahawks</td>\n    </tr>\n    <tr>\n      <th>2</th>\n      <td>2014</td>\n      <td>Seattle Seahawks</td>\n      <td>Denver Broncos</td>\n    </tr>\n    <tr>\n      <th>3</th>\n      <td>2013</td>\n      <td>Baltimore Ravens</td>\n      <td>San Francisco 49ers</td>\n    </tr>\n    <tr>\n      <th>4</th>\n      <td>2012</td>\n      <td>New York Giants</td>\n      <td>New England Patriots</td>\n    </tr>\n    <tr>\n      <th>5</th>\n      <td>2011</td>\n      <td>Green Bay Packers</td>\n      <td>Pittsburgh Steelers</td>\n    </tr>\n    <tr>\n      <th>6</th>\n      <td>2010</td>\n      <td>New Orleans Saints</td>\n      <td>Indianapolis Colts</td>\n    </tr>\n    <tr>\n      <th>7</th>\n      <td>2009</td>\n      <td>Pittsburgh Steelers</td>\n      <td>Arizona Cardinals</td>\n    </tr>\n    <tr>\n      <th>8</th>\n      <td>2008</td>\n      <td>New York Giants</td>\n      <td>New England Patriots</td>\n    </tr>\n    <tr>\n      <th>9</th>\n      <td>2007</td>\n      <td>Indianapolis Colts</td>\n      <td>Chicago Bears</td>\n    </tr>\n  </tbody>\n</table>\n</div>",
                        "text/plain": "   year                 team1                  team2\n0  2016     Carolina Panthers         Denver Broncos\n1  2015  New England Patriots       Seattle Seahawks\n2  2014      Seattle Seahawks         Denver Broncos\n3  2013      Baltimore Ravens    San Francisco 49ers\n4  2012       New York Giants  New England Patriots \n5  2011     Green Bay Packers    Pittsburgh Steelers\n6  2010    New Orleans Saints     Indianapolis Colts\n7  2009   Pittsburgh Steelers      Arizona Cardinals\n8  2008       New York Giants   New England Patriots\n9  2007    Indianapolis Colts          Chicago Bears"
                    },
                    "metadata": {},
                    "output_type": "display_data"
                }
            ]
        },
        {
            "metadata": {},
            "cell_type": "markdown",
            "source": "Now look for the games in your solution that are replays of one of the past 10 Super Bowls."
        },
        {
            "metadata": {},
            "cell_type": "code",
            "source": "months = [\"January\", \"February\", \"March\", \"April\", \"May\", \"June\", \n          \"July\", \"August\", \"September\", \"October\", \"November\", \"December\"]\nreport = []\nfor m in solution:\n    if (m.team1, m.team2) in nfl_meetings:\n        report.append((m.week, months[m.week//4], m.team1, m.team2))\n    if (m.team2, m.team1) in nfl_meetings: \n        report.append((m.week, months[m.week//4], m.team2, m.team1))\n\nprint(report)\nmatches_bd = pd.DataFrame(report)\nmatches_bd.columns = [\"week\", \"Month\", \"Team1\", \"Team2\"]",
            "execution_count": 22,
            "outputs": [
                {
                    "name": "stdout",
                    "output_type": "stream",
                    "text": "[(4, 'February', 'Green Bay Packers', 'Pittsburgh Steelers')]\n"
                }
            ]
        },
        {
            "metadata": {
                "render": true
            },
            "cell_type": "code",
            "source": "try: #pandas >= 0.17\n    display(matches_bd.sort_values(by='week'))\nexcept:\n    display(matches_bd.sort('week'))",
            "execution_count": 23,
            "outputs": [
                {
                    "data": {
                        "text/html": "<div>\n<style scoped>\n    .dataframe tbody tr th:only-of-type {\n        vertical-align: middle;\n    }\n\n    .dataframe tbody tr th {\n        vertical-align: top;\n    }\n\n    .dataframe thead th {\n        text-align: right;\n    }\n</style>\n<table border=\"1\" class=\"dataframe\">\n  <thead>\n    <tr style=\"text-align: right;\">\n      <th></th>\n      <th>week</th>\n      <th>Month</th>\n      <th>Team1</th>\n      <th>Team2</th>\n    </tr>\n  </thead>\n  <tbody>\n    <tr>\n      <th>0</th>\n      <td>4</td>\n      <td>February</td>\n      <td>Green Bay Packers</td>\n      <td>Pittsburgh Steelers</td>\n    </tr>\n  </tbody>\n</table>\n</div>",
                        "text/plain": "   week     Month              Team1                Team2\n0     4  February  Green Bay Packers  Pittsburgh Steelers"
                    },
                    "metadata": {},
                    "output_type": "display_data"
                }
            ]
        },
        {
            "metadata": {},
            "cell_type": "markdown",
            "source": "## Summary\n\n\nYou have learned how to set up and use IBM Decision Optimization CPLEX Modeling for Python to formulate an Integer Programming model and solve it with CPLEX."
        },
        {
            "metadata": {
                "render": true
            },
            "cell_type": "markdown",
            "source": "#### References\n* <a href=\"https://rawgit.com/IBMDecisionOptimization/docplex-doc/master/docs/index.html\" target=\"_blank\" rel=\"noopener noreferrer\">Decision Optimization CPLEX Modeling for Python documentation</a>\n* <a href=\"https://dataplatform.cloud.ibm.com/docs/content/wsj/getting-started/welcome-main.html\" target=\"_blank\" rel=\"noopener noreferrer\">Watson Studio documentation</a>\n"
        }
    ],
    "metadata": {
        "kernelspec": {
            "name": "python3",
            "display_name": "Python 3.6",
            "language": "python"
        },
        "language_info": {
            "name": "python",
            "version": "3.6.8",
            "mimetype": "text/x-python",
            "codemirror_mode": {
                "name": "ipython",
                "version": 3
            },
            "pygments_lexer": "ipython3",
            "nbconvert_exporter": "python",
            "file_extension": ".py"
        }
    },
    "nbformat": 4,
    "nbformat_minor": 1
}