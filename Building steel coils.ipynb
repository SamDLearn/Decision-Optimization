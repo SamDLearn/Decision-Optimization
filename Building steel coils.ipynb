{
    "cells": [
        {
            "metadata": {},
            "cell_type": "markdown",
            "source": "# Building steel coils\n\nThis tutorial includes everything you need to set up decision optimization engines, build constraint programming models.\n\nTable of contents:\n\n-  [Describe the business problem](#Describe-the-business-problem)\n*  [How decision optimization (prescriptive analytics) can help](#How--decision-optimization-can-help)\n*  [Use decision optimization](#Use-decision-optimization)\n    *  [Step 1: Model the Data](#Step-1:-Model-the-data)\n    *  [Step 2: Set up the prescriptive model](#Step-2:-Set-up-the-prescriptive-model)\n        * [Define the decision variables](#Define-the-decision-variables)\n        * [Express the business constraints](#Express-the-business-constraints)\n        * [Express the objective](#Express-the-objective)\n        * [Solve with Decision Optimization solve service](#Solve-with-Decision-Optimization-solve-service)\n    *  [Step 3: Investigate the solution and run an example analysis](#Step-3:-Investigate-the-solution-and-then-run-an-example-analysis)\n*  [Summary](#Summary)\n****"
        },
        {
            "metadata": {},
            "cell_type": "markdown",
            "source": "### Describe the business problem\n\n* The problem is to build steel coils from slabs that are available in a work-in-process inventory of semi-finished products. There is no limitation in the number of slabs that can be requested, but only a finite number of slab sizes are available (sizes 11, 13, 16, 17, 19, 20, 23, 24, 25, 26, 27, 28, 29, 30, 33, 34, 40, 43, 45). \n* The problem is to select a number of slabs to build the coil orders, and to satisfy the following constraints:\n    * A coil order can be built from only one slab.\n    * Each coil order requires a specific process to build it from a slab. This process is encoded by a color.\n    * Several coil orders can be built from the same slab. But a slab can be used to produce at most two different \"colors\" of coils.\n    * The sum of the sizes of each coil order built from a slab must not exceed the slab size.\n\n\n* Finally, the production plan should minimize the unused capacity of the selected slabs.\n\n\n* This problem is based on **prob038: Steel mill slab design problem** from <a href=\"http://www.csplib.org\" target=\"_blank\" rel=\"noopener noreferrer\">CSPLib</a>. It is a simplification of an industrial problem described in J. R. Kalagnanam, M. W. Dawande, M. Trumbo, H. S. Lee. \"Inventory Matching Problems in the Steel Industry,\" IBM Research Report RC 21171, 1998.\n\n* Please refer to documentation for appropriate setup of solving configuration."
        },
        {
            "metadata": {},
            "cell_type": "markdown",
            "source": "*****\n## How  decision optimization can help\n* Prescriptive analytics technology recommends actions based on desired outcomes, taking into account specific scenarios, resources, and knowledge of past and current events. This insight can help your organization make better decisions and have greater control of business outcomes.  \n\n* Prescriptive analytics is the next step on the path to insight-based actions. It creates value through synergy with predictive analytics, which analyzes data to predict future outcomes.  \n\n* Prescriptive analytics takes that insight to the next level by suggesting the optimal way to handle that future situation. Organizations that can act fast in dynamic conditions and make superior decisions in uncertain environments gain a strong competitive advantage.  \n<br/>\n\n+ For example:\n    + Automate complex decisions and trade-offs to better manage limited resources.\n    + Take advantage of a future opportunity or mitigate a future risk.\n    + Proactively update recommendations based on changing events.\n    + Meet operational goals, increase customer loyalty, prevent threats and fraud, and optimize business processes.\n"
        },
        {
            "metadata": {},
            "cell_type": "markdown",
            "source": "## Use decision optimization"
        },
        {
            "metadata": {},
            "cell_type": "markdown",
            "source": "### Step 1: Model the data"
        },
        {
            "metadata": {},
            "cell_type": "code",
            "source": "from docplex.cp.model import *",
            "execution_count": 1,
            "outputs": []
        },
        {
            "metadata": {},
            "cell_type": "markdown",
            "source": "Set model parameter"
        },
        {
            "metadata": {},
            "cell_type": "code",
            "source": "from collections import namedtuple\n\n##############################################################################\n# Model configuration\n##############################################################################\n\n# The number of coils to produce\nTUPLE_ORDER = namedtuple(\"TUPLE_ORDER\", [\"index\", \"weight\", \"color\"])\norders = [ TUPLE_ORDER(1, 22, 5),\n           TUPLE_ORDER(2,  9, 3),\n           TUPLE_ORDER(3,  9, 4),\n           TUPLE_ORDER(4,  8, 5),\n           TUPLE_ORDER(5,  8, 7),\n           TUPLE_ORDER(6,  6, 3),\n           TUPLE_ORDER(7,  5, 6),\n           TUPLE_ORDER(8,  3, 0),\n           TUPLE_ORDER(9,  3, 2),\n           TUPLE_ORDER(10, 3, 3),\n           TUPLE_ORDER(11, 2, 1),\n           TUPLE_ORDER(12, 2, 5)\n           ]\n\nNB_SLABS = 12\nMAX_COLOR_PER_SLAB = 2\n\n# The total number of slabs available.  In theory this can be unlimited,\n# but we impose a reasonable upper bound in order to produce a practical\n# optimization model.\n\n# The different slab weights available.\nslab_weights = [ 0, 11, 13, 16, 17, 19, 20, 23, 24, 25,\n                 26, 27, 28, 29, 30, 33, 34, 40, 43, 45 ]",
            "execution_count": 2,
            "outputs": []
        },
        {
            "metadata": {},
            "cell_type": "code",
            "source": "nb_orders = len(orders)\nslabs = range(NB_SLABS)\nallcolors = set([ o.color for o in orders ])\n\n# CPO needs lists for pack constraint\norder_weights = [ o.weight for o in orders ]\n\n# The heaviest slab\nmax_slab_weight = max(slab_weights)\n\n# The amount of loss incurred for different amounts of slab use\n# The loss will depend on how much less steel is used than the slab\n# just large enough to produce the coils.\nloss = [ min([sw-use for sw in slab_weights if sw >= use]) for use in range(max_slab_weight+1)]",
            "execution_count": 3,
            "outputs": []
        },
        {
            "metadata": {},
            "cell_type": "markdown",
            "source": "### Step 2: Set up the prescriptive model"
        },
        {
            "metadata": {},
            "cell_type": "markdown",
            "source": "Create CPO model"
        },
        {
            "metadata": {},
            "cell_type": "code",
            "source": "mdl = CpoModel(name=\"trucks\")",
            "execution_count": 4,
            "outputs": []
        },
        {
            "metadata": {},
            "cell_type": "markdown",
            "source": "#### Define the decision variables"
        },
        {
            "metadata": {},
            "cell_type": "code",
            "source": "# Which slab is used to produce each coil\nproduction_slab = integer_var_dict(orders, 0, NB_SLABS-1, \"production_slab\")\n\n# How much of each slab is used\nslab_use = integer_var_list(NB_SLABS, 0, max_slab_weight, \"slab_use\")",
            "execution_count": 5,
            "outputs": []
        },
        {
            "metadata": {},
            "cell_type": "markdown",
            "source": "#### Express the business constraints"
        },
        {
            "metadata": {},
            "cell_type": "code",
            "source": "# The total loss is\ntotal_loss = sum([element(slab_use[s], loss) for s in slabs])\n\n# The orders are allocated to the slabs with capacity\nmdl.add(pack(slab_use, [production_slab[o] for o in orders], order_weights))\n\n# At most MAX_COLOR_PER_SLAB colors per slab\nfor s in slabs:\n   su = 0\n   for c in allcolors:\n       lo = False\n       for o in orders:\n           if o.color==c:\n               lo = (production_slab[o] == s) | lo\n       su += lo\n   mdl.add(su <= MAX_COLOR_PER_SLAB)",
            "execution_count": 6,
            "outputs": []
        },
        {
            "metadata": {},
            "cell_type": "markdown",
            "source": "#### Express the objective"
        },
        {
            "metadata": {},
            "cell_type": "code",
            "source": "# Add minimization objective\nmdl.add(minimize(total_loss))",
            "execution_count": 7,
            "outputs": []
        },
        {
            "metadata": {},
            "cell_type": "markdown",
            "source": "#### Solve the model"
        },
        {
            "metadata": {},
            "cell_type": "code",
            "source": "print(\"\\nSolving model....\")\n# Search strategy\nmdl.set_search_phases([search_phase([production_slab[o] for o in orders])])\n\nmsol = mdl.solve(FailLimit=100000, TimeLimit=10)",
            "execution_count": 8,
            "outputs": [
                {
                    "name": "stdout",
                    "output_type": "stream",
                    "text": "\nSolving model....\n"
                }
            ]
        },
        {
            "metadata": {},
            "cell_type": "markdown",
            "source": "### Step 3: Investigate the solution and then run an example analysis"
        },
        {
            "metadata": {},
            "cell_type": "code",
            "source": "# Print solution\nif msol:\n    print(\"Solution: \")\n    from_slabs = [set([o.index for o in orders if msol[production_slab[o]]== s])for s in slabs]\n    slab_colors = [set([o.color for o in orders if o.index in from_slabs[s]])for s in slabs]\n    for s in slabs:\n        if len(from_slabs[s]) > 0:\n            print(\"Slab = \" + str(s))\n            print(\"\\tLoss = \" + str(loss[msol[slab_use[s]]]))\n            print(\"\\tcolors = \" + str(slab_colors[s]))\n            print(\"\\tOrders = \" + str(from_slabs[s]) + \"\\n\")\nelse:\n    print(\"No solution found\")",
            "execution_count": 9,
            "outputs": [
                {
                    "name": "stdout",
                    "output_type": "stream",
                    "text": "Solution: \nSlab = 0\n\tLoss = 0\n\tcolors = {0, 5}\n\tOrders = {8, 1}\n\nSlab = 3\n\tLoss = 0\n\tcolors = {3, 6}\n\tOrders = {6, 7}\n\nSlab = 4\n\tLoss = 0\n\tcolors = {2, 5}\n\tOrders = {9, 4}\n\nSlab = 7\n\tLoss = 0\n\tcolors = {1, 4}\n\tOrders = {11, 3}\n\nSlab = 10\n\tLoss = 0\n\tcolors = {3, 5}\n\tOrders = {2, 12}\n\nSlab = 11\n\tLoss = 0\n\tcolors = {3, 7}\n\tOrders = {10, 5}\n\n"
                }
            ]
        },
        {
            "metadata": {},
            "cell_type": "markdown",
            "source": "## Summary\n\nYou have learned how to set up and use the IBM Decision Optimization CPLEX Modeling for Python to formulate and solve a Constraint Programming model."
        },
        {
            "metadata": {},
            "cell_type": "markdown",
            "source": "#### References\n* <a href=\"https://rawgit.com/IBMDecisionOptimization/docplex-doc/master/docs/index.html\" target=\"_blank\" rel=\"noopener noreferrer\">Decision Optimization CPLEX Modeling for Python documentation</a>\n* <a href=\"https://dataplatform.cloud.ibm.com/docs/content/wsj/getting-started/welcome-main.html\" target=\"_blank\" rel=\"noopener noreferrer\">Watson Studio documentation</a>\n"
        }
    ],
    "metadata": {
        "kernelspec": {
            "name": "python3",
            "display_name": "Python 3.6",
            "language": "python"
        },
        "language_info": {
            "name": "python",
            "version": "3.6.8",
            "mimetype": "text/x-python",
            "codemirror_mode": {
                "name": "ipython",
                "version": 3
            },
            "pygments_lexer": "ipython3",
            "nbconvert_exporter": "python",
            "file_extension": ".py"
        }
    },
    "nbformat": 4,
    "nbformat_minor": 1
}