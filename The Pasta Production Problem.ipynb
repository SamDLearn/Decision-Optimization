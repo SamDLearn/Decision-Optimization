{
    "cells": [
        {
            "metadata": {},
            "cell_type": "markdown",
            "source": "# The Pasta Production Problem\n\nThis tutorial includes everything you need to set up IBM Decision Optimization CPLEX Modeling for Python (DOcplex), build a Mathematical Programming model, and get its solution by solving the model with IBM ILOG CPLEX Optimizer. \n\nTable of contents:\n\n-  [Describe the business problem](#Describe-the-business-problem)\n*  [How decision optimization (prescriptive analytics) can help](#How--decision-optimization-can-help)\n*  [Use decision optimization](#Use-decision-optimization)\n    -  [Step 1: Model the data](#Step-1:-Model-the-data)\n    *  [Step 2: Prepare the data](#Step-2:-Prepare-the-data)\n    -  [Step 3: Set up the prescriptive model](#Step-3:-Set-up-the-prescriptive-model)\n        * [Define the decision variables](#Define-the-decision-variables)\n        * [Express the business constraints](#Express-the-business-constraints)\n        * [Express the objective](#Express-the-objective)\n        * [Solve with Decision Optimization](#Solve-with-Decision-Optimization)\n    *  [Step 4: Investigate the solution and run an example analysis](#Step-4:-Investigate-the-solution-and-then-run-an-example-analysis)\n*  [Summary](#Summary)\n\n****"
        },
        {
            "metadata": {},
            "cell_type": "markdown",
            "source": "## Describe the business problem\n\nThis notebook describes how to use CPLEX Modeling for Python to manage the production of pasta to meet demand with your resources.\n\nThe model aims at minimizing the production cost for a number of products while satisfying customer demand.\n\n   * Each product can be produced either inside the company or outside, at a higher cost.\n   * The inside production is constrained by the company's resources, while outside production is considered unlimited.\n\nThe model first declares the products and the resources.\nThe data consists of the description of the products (the demand, the inside and outside costs,\nand the resource consumption) and the capacity of the various resources.\nThe variables for this problem are the inside and outside production for each product."
        },
        {
            "metadata": {},
            "cell_type": "markdown",
            "source": "## How  decision optimization can help\n\n* Prescriptive analytics (decision optimization) technology recommends actions that are based on desired outcomes.  It takes into account specific scenarios, resources, and knowledge of past and current events. With this insight, your organization can make better decisions and have greater control of business outcomes.  \n\n* Prescriptive analytics is the next step on the path to insight-based actions. It creates value through synergy with predictive analytics, which analyzes data to predict future outcomes.  \n\n* Prescriptive analytics takes that insight to the next level by suggesting the optimal way to handle that future situation. Organizations that can act fast in dynamic conditions and make superior decisions in uncertain environments gain a strong competitive advantage.  \n<br/>\n\n<u>With prescriptive analytics, you can:</u> \n\n* Automate the complex decisions and trade-offs to better manage your limited resources.\n* Take advantage of a future opportunity or mitigate a future risk.\n* Proactively update recommendations based on changing events.\n* Meet operational goals, increase customer loyalty, prevent threats and fraud, and optimize business processes."
        },
        {
            "metadata": {},
            "cell_type": "markdown",
            "source": "## Use decision optimization"
        },
        {
            "metadata": {},
            "cell_type": "markdown",
            "source": "### Step 1: Model the data"
        },
        {
            "metadata": {},
            "cell_type": "code",
            "source": "products = [(\"kluski\", 100, 0.6, 0.8),\n            (\"capellini\", 200, 0.8, 0.9),\n            (\"fettucine\", 300, 0.3, 0.4)]\n\n# resources are a list of simple tuples (name, capacity)\nresources = [(\"flour\", 20),\n             (\"eggs\", 40)]\n\nconsumptions = {(\"kluski\", \"flour\"): 0.5,\n                (\"kluski\", \"eggs\"): 0.2,\n                (\"capellini\", \"flour\"): 0.4,\n                (\"capellini\", \"eggs\"): 0.4,\n                (\"fettucine\", \"flour\"): 0.3,\n                (\"fettucine\", \"eggs\"): 0.6}",
            "execution_count": 1,
            "outputs": []
        },
        {
            "metadata": {},
            "cell_type": "markdown",
            "source": "### Step 2: Prepare the data\n\nThe data used is very simple and is ready to use without any cleaning, massage, refactoring."
        },
        {
            "metadata": {},
            "cell_type": "markdown",
            "source": "### Step 3: Set up the prescriptive model\n\nSet up the prescriptive model using the Mathematical Programming (docplex.mp) modeling package."
        },
        {
            "metadata": {},
            "cell_type": "code",
            "source": "from docplex.mp.environment import Environment\nenv = Environment()\nenv.print_information()",
            "execution_count": 2,
            "outputs": [
                {
                    "name": "stdout",
                    "output_type": "stream",
                    "text": "* system is: Linux 64bit\n* Python is present, version is 3.5.5\n* docplex is present, version is (2, 8, 125)\n* CPLEX wrapper is present, version is 12.8.0.0, located at: /opt/conda/envs/DSX-Python35/lib/python3.5/site-packages\n"
                }
            ]
        },
        {
            "metadata": {},
            "cell_type": "markdown",
            "source": "#### Create the DOcplex model\nThe model contains all the business constraints and defines the objective.\n\nWe now use CPLEX Modeling for Python to build a Mixed Integer Programming (MIP) model for this problem."
        },
        {
            "metadata": {},
            "cell_type": "code",
            "source": "from docplex.mp.model import Model\nmdl = Model(name=\"pasta\")",
            "execution_count": 3,
            "outputs": []
        },
        {
            "metadata": {},
            "cell_type": "markdown",
            "source": "#### Define the decision variables"
        },
        {
            "metadata": {},
            "cell_type": "code",
            "source": "inside_vars = mdl.continuous_var_dict(products, name='inside')\noutside_vars = mdl.continuous_var_dict(products, name='outside')",
            "execution_count": 4,
            "outputs": []
        },
        {
            "metadata": {},
            "cell_type": "markdown",
            "source": "#### Express the business constraints\n\n   * Each product can be produced either inside the company or outside, at a higher cost.\n   * The inside production is constrained by the company's resources, while outside production is considered unlimited."
        },
        {
            "metadata": {
                "scrolled": true
            },
            "cell_type": "code",
            "source": "# --- constraints ---\n# demand satisfaction\nmdl.add_constraints((inside_vars[prod] + outside_vars[prod] >= prod[1], 'ct_demand_%s' % prod[0]) for prod in products)\n\n# --- resource capacity ---\nmdl.add_constraints((mdl.sum(inside_vars[p] * consumptions[p[0], res[0]] for p in products) <= res[1], 'ct_res_%s' % res[0]) for res in resources)\n\nmdl.print_information()",
            "execution_count": 5,
            "outputs": [
                {
                    "name": "stdout",
                    "output_type": "stream",
                    "text": "Model: pasta\n - number of variables: 6\n   - binary=0, integer=0, continuous=6\n - number of constraints: 5\n   - linear=5\n - parameters: defaults\n"
                }
            ]
        },
        {
            "metadata": {},
            "cell_type": "markdown",
            "source": "#### Express the objective\n\nMinimizing the production cost for a number of products while satisfying customer demand."
        },
        {
            "metadata": {},
            "cell_type": "code",
            "source": "total_inside_cost = mdl.sum(inside_vars[p] * p[2] for p in products)\ntotal_outside_cost = mdl.sum(outside_vars[p] * p[3] for p in products)\n\nmdl.minimize(total_inside_cost + total_outside_cost)",
            "execution_count": 6,
            "outputs": []
        },
        {
            "metadata": {},
            "cell_type": "markdown",
            "source": "#### Solve with Decision Optimization\n\nNow solve the model, using `Model.solve()`. The following cell solves using your local CPLEX (if any, and provided you have added it to your `PYTHONPATH` variable). \n"
        },
        {
            "metadata": {},
            "cell_type": "code",
            "source": "mdl.solve()",
            "execution_count": 7,
            "outputs": [
                {
                    "data": {
                        "text/plain": "docplex.mp.solution.SolveSolution(obj=372,values={inside_kluski_100_0.6_.."
                    },
                    "execution_count": 7,
                    "metadata": {},
                    "output_type": "execute_result"
                }
            ]
        },
        {
            "metadata": {},
            "cell_type": "markdown",
            "source": "### Step 4: Investigate the solution and then run an example analysis"
        },
        {
            "metadata": {
                "scrolled": true
            },
            "cell_type": "code",
            "source": "obj = mdl.objective_value\n\nprint(\"* Production model solved with objective: {:g}\".format(obj))\nprint(\"* Total inside cost=%g\" % total_inside_cost.solution_value)\nfor p in products:\n    print(\"Inside production of {product}: {ins_var}\".format(product=p[0], ins_var=inside_vars[p].solution_value))\nprint(\"* Total outside cost=%g\" % total_outside_cost.solution_value)\nfor p in products:\n    print(\"Outside production of {product}: {out_var}\".format(product=p[0], out_var=outside_vars[p].solution_value))",
            "execution_count": 8,
            "outputs": [
                {
                    "name": "stdout",
                    "output_type": "stream",
                    "text": "* Production model solved with objective: 372\n* Total inside cost=24\nInside production of kluski: 40.0\nInside production of capellini: 0\nInside production of fettucine: 0\n* Total outside cost=348\nOutside production of kluski: 60.0\nOutside production of capellini: 200.0\nOutside production of fettucine: 300.0\n"
                }
            ]
        },
        {
            "metadata": {},
            "cell_type": "markdown",
            "source": "\n## Summary\n\nYou have learned how to set up and use IBM Decision Optimization CPLEX Modeling for Python to formulate a Mathematical Programming model and solve it with IBM Decision Optimization."
        },
        {
            "metadata": {},
            "cell_type": "markdown",
            "source": "## References\n* <a href=\"https://rawgit.com/IBMDecisionOptimization/docplex-doc/master/docs/index.html\" target=\"_blank\" rel=\"noopener noreferrer\">CPLEX Modeling for Python documentation</a>\n* <a href=\"https://dataplatform.cloud.ibm.com/docs/content/wsj/getting-started/welcome-main.html\" target=\"_blank\" rel=\"noopener noreferrer\">Watson Studio documentation</a>"
        }
    ],
    "metadata": {
        "kernelspec": {
            "name": "python3",
            "display_name": "Python 3.6",
            "language": "python"
        },
        "language_info": {
            "name": "python",
            "version": "3.6.8",
            "mimetype": "text/x-python",
            "codemirror_mode": {
                "name": "ipython",
                "version": 3
            },
            "pygments_lexer": "ipython3",
            "nbconvert_exporter": "python",
            "file_extension": ".py"
        }
    },
    "nbformat": 4,
    "nbformat_minor": 1
}