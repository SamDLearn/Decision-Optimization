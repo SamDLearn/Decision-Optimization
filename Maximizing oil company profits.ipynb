{
    "cells": [
        {
            "metadata": {},
            "cell_type": "markdown",
            "source": "# Maximizing the profit of an oil company\n\nThis tutorial includes everything you need to set up the decision optimization engines and build mathematical programming models.\n\nTable of contents:\n\n-  [Describe the business problem](#Describe-the-business-problem)\n*  [How decision optimization (prescriptive analytics) can help](#How--decision-optimization-can-help)\n*  [Use decision optimization](#Use-decision-optimization)\n    -  [Step 1: Model the data](#Step-1:-Model-the-data)\n    *  [Step 2: Prepare the data](#Step-2:-Prepare-the-data)\n    -  [Step 3: Set up the prescriptive model](#Step-3:-Set-up-the-prescriptive-model)\n        * [Define the decision variables](#Define-the-decision-variables)\n        * [Express the business constraints](#Express-the-business-constraints)\n        * [Express the objective](#Express-the-objective)\n        * [Solve with Decision Optimization](#Solve-with-Decision-Optimization)\n    *  [Step 4: Investigate the solution and run an example analysis](#Step-4:-Investigate-the-solution-and-then-run-an-example-analysis)\n*  [Summary](#Summary)\n"
        },
        {
            "metadata": {},
            "cell_type": "markdown",
            "source": "## Describe the business problem\n\n* An oil company manufactures different types of gasoline and diesel. Each type of gasoline is produced by blending different types of crude oils that must be purchased. The company must decide how much crude oil to buy in order to maximize its profit while respecting processing capacities and quality levels as well as satisfying customer demand.\n\n* Blending problems are a typical industry application of Linear Programming (LP). LP represents real life problems mathematically using an objective function to represent the goal that is to be minimized or maximized, together with a set of linear constraints which define the conditions to be satisfied and the limitations of the real life problem. The function and constraints are expressed in terms of decision variables and the solution, obtained from optimization engines such as IBM\u00ae ILOG\u00ae CPLEX\u00ae, provides the best values for these variables so that the objective function is optimized.\n\n* The oil-blending problem consists of calculating different blends of gasoline according to specific quality criteria.\n\n* Three types of gasoline are manufactured: super, regular, and diesel. \n\n* Each type of gasoline is produced by blending three types of crude oil: crude1, crude2, and crude3. \n\n* The gasoline must satisfy some quality criteria with respect to their lead content and their octane ratings, thus constraining the possible blendings.\n\n* The company must also satisfy its customer demand, which is 3,000 barrels a day of super, 2,000 of regular, and 1,000 of diesel. \n\n* The company can purchase 5,000 barrels of each type of crude oil per day and can process at most 14,000 barrels a day.\n\n* In addition, the company has the option of advertising a gasoline, in which case the demand for this type of gasoline increases by ten barrels for every dollar spent. \n\n* Finally, it costs four dollars to transform a barrel of oil into a barrel of gasoline."
        },
        {
            "metadata": {},
            "cell_type": "markdown",
            "source": "## How  decision optimization can help\n* Prescriptive analytics technology recommends actions based on desired outcomes, taking into account specific scenarios, resources, and knowledge of past and current events. This insight can help your organization make better decisions and have greater control of business outcomes.  \n\n* Prescriptive analytics is the next step on the path to insight-based actions. It creates value through synergy with predictive analytics, which analyzes data to predict future outcomes.  \n\n* Prescriptive analytics takes that insight to the next level by suggesting the optimal way to handle that future situation. Organizations that can act fast in dynamic conditions and make superior decisions in uncertain environments gain a strong competitive advantage.  \n<br/>\n\n+ For example:\n    + Automate complex decisions and trade-offs to better manage limited resources.\n    + Take advantage of a future opportunity or mitigate a future risk.\n    + Proactively update recommendations based on changing events.\n    + Meet operational goals, increase customer loyalty, prevent threats and fraud, and optimize business processes.\n"
        },
        {
            "metadata": {},
            "cell_type": "markdown",
            "source": "## Use decision optimization"
        },
        {
            "metadata": {},
            "cell_type": "markdown",
            "source": "### Step 1: Model the data\n\n* For each type of crude oil, there are capacities of what can be bought, the buying price, the octane level, and the lead level. \n* For each type of gasoline or diesel, there is customer demand, selling prices, and octane and lead levels.\n* There is a maximum level of production imposed by the factory's limit as well as a fixed production cost. \n* There are inventory costs for each type of final product and blending proportions. All of these have actual values in the model.\n\n* The marginal production cost and maximum production are assumed to be identical for all oil types.\n\n\nInput data comes as *NumPy* arrays with two dimensions. <a href=\"http://www.numpy.org/\" target=\"_blank\" rel=\"noopener noreferrer\">NumPy</a> is the fundamental package for scientific computing with Python."
        },
        {
            "metadata": {},
            "cell_type": "markdown",
            "source": "The first dimension of the *NumPy* array is the number of gasoline types; \nand for each gasoline type, you have a *NumPy* array containing capacity, price, octane and lead level, in that order."
        },
        {
            "metadata": {},
            "cell_type": "code",
            "source": "import numpy as np\n\ngas_names = [\"super\", \"regular\", \"diesel\"]\n\ngas_data = np.array([[3000, 70, 10, 1], [2000, 60, 8, 2], [1000, 50, 6, 1]])\n\noil_names = [\"crude1\", \"crude2\", \"crude3\"]\n\noil_data = np.array([[5000, 45, 12, 0.5], [5000, 35, 6, 2], [5000, 25, 8, 3]])\n\nnb_gas  = len(gas_names)\nnb_oils = len(oil_names)\nrange_gas = range(nb_gas)\nrange_oil = range(nb_oils)\nprint(\"Number of gasoline types = {0}\".format(nb_gas))\nprint(\"Number of crude types = {0}\".format(nb_oils))\n\n# global data\nproduction_cost = 4\nproduction_max = 14000\n# each $1 spent on advertising increases demand by 10.\nadvert_return = 10",
            "execution_count": 1,
            "outputs": [
                {
                    "output_type": "stream",
                    "text": "Number of gasoline types = 3\nNumber of crude types = 3\n",
                    "name": "stdout"
                }
            ]
        },
        {
            "metadata": {},
            "cell_type": "markdown",
            "source": "### Step 2: Prepare the data"
        },
        {
            "metadata": {},
            "cell_type": "markdown",
            "source": "<a href=\"http://pandas.pydata.org/\" target=\"_blank\" rel=\"noopener noreferrer\">Pandas</a> is another Python library that is used to store data. *pandas* contains data structures and data analysis tools for the Python programming language."
        },
        {
            "metadata": {},
            "cell_type": "code",
            "source": "import pandas as pd\ngaspd = pd.DataFrame([(gas_names[i],int(gas_data[i][0]),int(gas_data[i][1]),int(gas_data[i][2]),int(gas_data[i][3])) \n                      for i in range_gas])\noilpd = pd.DataFrame([(oil_names[i],int(oil_data[i][0]),int(oil_data[i][1]),int(oil_data[i][2]),oil_data[i][3]) \n                      for i in range_oil])\ngaspd.columns = ['name','demand','price','octane','lead']\noilpd.columns= ['name','capacity','price','octane','lead']",
            "execution_count": 2,
            "outputs": []
        },
        {
            "metadata": {},
            "cell_type": "markdown",
            "source": "Use basic HTML and a stylesheet to format the data."
        },
        {
            "metadata": {},
            "cell_type": "code",
            "source": "CSS = \"\"\"\nbody {\n    margin: 0;\n    font-family: Helvetica;\n}\ntable.dataframe {\n    border-collapse: collapse;\n    border: none;\n}\ntable.dataframe tr {\n    border: none;\n}\ntable.dataframe td, table.dataframe th {\n    margin: 0;\n    border: 1px solid white;\n    padding-left: 0.25em;\n    padding-right: 0.25em;\n}\ntable.dataframe th:not(:empty) {\n    background-color: #fec;\n    text-align: left;\n    font-weight: normal;\n}\ntable.dataframe tr:nth-child(2) th:empty {\n    border-left: none;\n    border-right: 1px dashed #888;\n}\ntable.dataframe td {\n    border: 2px solid #ccf;\n    background-color: #f4f4ff;\n}\n    table.dataframe thead th:first-child {\n        display: none;\n    }\n    table.dataframe tbody th {\n        display: none;\n    }\n\"\"\"\n\nfrom IPython.core.display import HTML\nHTML('<style>{}</style>'.format(CSS))",
            "execution_count": 3,
            "outputs": [
                {
                    "output_type": "execute_result",
                    "execution_count": 3,
                    "data": {
                        "text/plain": "<IPython.core.display.HTML object>",
                        "text/html": "<style>\nbody {\n    margin: 0;\n    font-family: Helvetica;\n}\ntable.dataframe {\n    border-collapse: collapse;\n    border: none;\n}\ntable.dataframe tr {\n    border: none;\n}\ntable.dataframe td, table.dataframe th {\n    margin: 0;\n    border: 1px solid white;\n    padding-left: 0.25em;\n    padding-right: 0.25em;\n}\ntable.dataframe th:not(:empty) {\n    background-color: #fec;\n    text-align: left;\n    font-weight: normal;\n}\ntable.dataframe tr:nth-child(2) th:empty {\n    border-left: none;\n    border-right: 1px dashed #888;\n}\ntable.dataframe td {\n    border: 2px solid #ccf;\n    background-color: #f4f4ff;\n}\n    table.dataframe thead th:first-child {\n        display: none;\n    }\n    table.dataframe tbody th {\n        display: none;\n    }\n</style>"
                    },
                    "metadata": {}
                }
            ]
        },
        {
            "metadata": {},
            "cell_type": "markdown",
            "source": "Now display the data that you have just prepared."
        },
        {
            "metadata": {
                "scrolled": true
            },
            "cell_type": "code",
            "source": "from IPython.display import display\nprint(\"Gas data:\")\ndisplay(gaspd)\nprint(\"Oil data:\")\ndisplay(oilpd)",
            "execution_count": 4,
            "outputs": [
                {
                    "output_type": "stream",
                    "text": "Gas data:\n",
                    "name": "stdout"
                },
                {
                    "output_type": "display_data",
                    "data": {
                        "text/plain": "      name  demand  price  octane  lead\n0    super    3000     70      10     1\n1  regular    2000     60       8     2\n2   diesel    1000     50       6     1",
                        "text/html": "<div>\n<style scoped>\n    .dataframe tbody tr th:only-of-type {\n        vertical-align: middle;\n    }\n\n    .dataframe tbody tr th {\n        vertical-align: top;\n    }\n\n    .dataframe thead th {\n        text-align: right;\n    }\n</style>\n<table border=\"1\" class=\"dataframe\">\n  <thead>\n    <tr style=\"text-align: right;\">\n      <th></th>\n      <th>name</th>\n      <th>demand</th>\n      <th>price</th>\n      <th>octane</th>\n      <th>lead</th>\n    </tr>\n  </thead>\n  <tbody>\n    <tr>\n      <th>0</th>\n      <td>super</td>\n      <td>3000</td>\n      <td>70</td>\n      <td>10</td>\n      <td>1</td>\n    </tr>\n    <tr>\n      <th>1</th>\n      <td>regular</td>\n      <td>2000</td>\n      <td>60</td>\n      <td>8</td>\n      <td>2</td>\n    </tr>\n    <tr>\n      <th>2</th>\n      <td>diesel</td>\n      <td>1000</td>\n      <td>50</td>\n      <td>6</td>\n      <td>1</td>\n    </tr>\n  </tbody>\n</table>\n</div>"
                    },
                    "metadata": {}
                },
                {
                    "output_type": "stream",
                    "text": "Oil data:\n",
                    "name": "stdout"
                },
                {
                    "output_type": "display_data",
                    "data": {
                        "text/plain": "     name  capacity  price  octane  lead\n0  crude1      5000     45      12   0.5\n1  crude2      5000     35       6   2.0\n2  crude3      5000     25       8   3.0",
                        "text/html": "<div>\n<style scoped>\n    .dataframe tbody tr th:only-of-type {\n        vertical-align: middle;\n    }\n\n    .dataframe tbody tr th {\n        vertical-align: top;\n    }\n\n    .dataframe thead th {\n        text-align: right;\n    }\n</style>\n<table border=\"1\" class=\"dataframe\">\n  <thead>\n    <tr style=\"text-align: right;\">\n      <th></th>\n      <th>name</th>\n      <th>capacity</th>\n      <th>price</th>\n      <th>octane</th>\n      <th>lead</th>\n    </tr>\n  </thead>\n  <tbody>\n    <tr>\n      <th>0</th>\n      <td>crude1</td>\n      <td>5000</td>\n      <td>45</td>\n      <td>12</td>\n      <td>0.5</td>\n    </tr>\n    <tr>\n      <th>1</th>\n      <td>crude2</td>\n      <td>5000</td>\n      <td>35</td>\n      <td>6</td>\n      <td>2.0</td>\n    </tr>\n    <tr>\n      <th>2</th>\n      <td>crude3</td>\n      <td>5000</td>\n      <td>25</td>\n      <td>8</td>\n      <td>3.0</td>\n    </tr>\n  </tbody>\n</table>\n</div>"
                    },
                    "metadata": {}
                }
            ]
        },
        {
            "metadata": {},
            "cell_type": "markdown",
            "source": "### Step 4: Set up the prescriptive model\n\n#### Create the DOcplex model\nA model is needed to store all the variables and constraints needed to formulate the business problem and submit the problem to the solve service. Use the DOcplex Mathematical Programming (docplex.mp) modeling package."
        },
        {
            "metadata": {},
            "cell_type": "code",
            "source": "from docplex.mp.model import Model\n\nmdl = Model(name=\"oil_blending\")",
            "execution_count": 5,
            "outputs": []
        },
        {
            "metadata": {},
            "cell_type": "markdown",
            "source": "#### Define the decision variables\n\nFor each combination of oil and gas, you must decide the quantity of oil to use to produce a gasoline. A decision variable is needed to represent that amount. \nA matrix of continuous variables, indexed by the set of oils and the set of gasolines is thus created.\n"
        },
        {
            "metadata": {},
            "cell_type": "code",
            "source": "blends = mdl.continuous_var_matrix(keys1=nb_oils, keys2=nb_gas, lb=0)",
            "execution_count": 6,
            "outputs": []
        },
        {
            "metadata": {},
            "cell_type": "markdown",
            "source": "You also need to decide how much should be spent in advertising for each type of gasoline. To do so, you will create a list of continuous variables, indexed by the gasolines."
        },
        {
            "metadata": {},
            "cell_type": "code",
            "source": "adverts = mdl.continuous_var_list(nb_gas, lb=0)",
            "execution_count": 7,
            "outputs": []
        },
        {
            "metadata": {},
            "cell_type": "markdown",
            "source": "#### Express the business constraints\n\nThe business constraints are the following:\n\n* The demand for each gasoline type must be satisfied. The total demand includes the initial demand as stored in the data, plus a variable demand caused by the advertising. This increase is assumed to be proportional to the advertising cost.\n- The capacity constraint on each oil type must also be satisfied.\n- For each gasoline type, the octane level must be above a minimum level, and the lead level must be below a maximum level."
        },
        {
            "metadata": {},
            "cell_type": "markdown",
            "source": "##### Demand\n\n+ For each gasoline type, the total quantity produced must equal the raw demand plus the demand increase created by the advertising."
        },
        {
            "metadata": {},
            "cell_type": "code",
            "source": "# gasoline demand is numpy array field #0\nmdl.add_constraints(mdl.sum(blends[o, g] for o in range(nb_oils)) == gas_data[g][0] + advert_return * adverts[g]\n                   for g in range(nb_gas))\nmdl.print_information()",
            "execution_count": 8,
            "outputs": [
                {
                    "output_type": "stream",
                    "text": "Model: oil_blending\n - number of variables: 12\n   - binary=0, integer=0, continuous=12\n - number of constraints: 3\n   - linear=3\n - parameters: defaults\n - problem type is: LP\n",
                    "name": "stdout"
                }
            ]
        },
        {
            "metadata": {},
            "cell_type": "markdown",
            "source": "##### Maximum capacity\n\n+ For each type of oil, the total quantity used in all types of gasolines must not exceed the maximum capacity for this oil."
        },
        {
            "metadata": {},
            "cell_type": "code",
            "source": "mdl.add_constraints(mdl.sum(blends[o,g] for g in range_gas) <= oil_data[o][0]\n                    for o in range_oil)\nmdl.print_information()",
            "execution_count": 9,
            "outputs": [
                {
                    "output_type": "stream",
                    "text": "Model: oil_blending\n - number of variables: 12\n   - binary=0, integer=0, continuous=12\n - number of constraints: 6\n   - linear=6\n - parameters: defaults\n - problem type is: LP\n",
                    "name": "stdout"
                }
            ]
        },
        {
            "metadata": {},
            "cell_type": "markdown",
            "source": "##### Octane and Lead levels\n+ For each gasoline type, the octane level must be above a minimum level, and the lead level must be below a maximum level."
        },
        {
            "metadata": {},
            "cell_type": "code",
            "source": "# minimum octane level\n# octane is numpy array field #2\nmdl.add_constraints(mdl.sum(blends[o,g]*(oil_data[o][2] - gas_data[g][2]) for o in range_oil) >= 0\n                   for g in range_gas)\n    \n# maximum lead  level\n# lead level is numpy array field #3 \nmdl.add_constraints(mdl.sum(blends[o,g]*(oil_data[o][3] - gas_data[g][3]) for o in range_oil) <= 0\n                   for g in range_gas)\n\nmdl.print_information()",
            "execution_count": 10,
            "outputs": [
                {
                    "output_type": "stream",
                    "text": "Model: oil_blending\n - number of variables: 12\n   - binary=0, integer=0, continuous=12\n - number of constraints: 12\n   - linear=12\n - parameters: defaults\n - problem type is: LP\n",
                    "name": "stdout"
                }
            ]
        },
        {
            "metadata": {},
            "cell_type": "markdown",
            "source": "##### Maximum total production\n\n+ The total production must not exceed the maximum (here 14000)."
        },
        {
            "metadata": {},
            "cell_type": "code",
            "source": "# -- maximum global production\nmdl.add_constraint(mdl.sum(blends) <= production_max)\n\nmdl.print_information()",
            "execution_count": 11,
            "outputs": [
                {
                    "output_type": "stream",
                    "text": "Model: oil_blending\n - number of variables: 12\n   - binary=0, integer=0, continuous=12\n - number of constraints: 13\n   - linear=13\n - parameters: defaults\n - problem type is: LP\n",
                    "name": "stdout"
                }
            ]
        },
        {
            "metadata": {},
            "cell_type": "markdown",
            "source": "#### Express the objective\n\n* The objective or goal is to maximize profit, which is made from sales of the final products minus total costs. The costs consist of the purchase cost of the crude oils, production costs, and inventory costs.\n- The model maximizes the net revenue, that is the revenue minus oil cost and production cost and advertising cost.\n- To define business objective, you can define a few KPIs :\n    * Total advertising cost\n    - Total Oil cost\n    - Total production cost\n    - Total revenue"
        },
        {
            "metadata": {},
            "cell_type": "code",
            "source": "# KPIs\ntotal_advert_cost = mdl.sum(adverts)\nmdl.add_kpi(total_advert_cost, \"Total advertising cost\")\ntotal_oil_cost = mdl.sum(blends[o,g] * oil_data[o][1] for o in range_oil for g in range_gas)\nmdl.add_kpi(total_oil_cost, \"Total Oil cost\")\ntotal_production_cost = production_cost * mdl.sum(blends)\nmdl.add_kpi(total_production_cost, \"Total production cost\")\ntotal_revenue = mdl.sum(blends[o,g] * gas_data[g][1] for g in range(nb_gas) for o in range(nb_oils))\nmdl.add_kpi(total_revenue, \"Total revenue\")\n\n# finally the objective\nmdl.maximize(total_revenue - total_oil_cost - total_production_cost - total_advert_cost)",
            "execution_count": 12,
            "outputs": []
        },
        {
            "metadata": {},
            "cell_type": "markdown",
            "source": "#### Solve with Decision Optimization\n\nNow display the objective and KPI values after the solve by calling the method report() on the model."
        },
        {
            "metadata": {},
            "cell_type": "code",
            "source": "assert mdl.solve(), \"Solve failed\"\nmdl.report()",
            "execution_count": 13,
            "outputs": [
                {
                    "output_type": "display_data",
                    "data": {
                        "text/plain": "<IPython.core.display.Javascript object>",
                        "application/javascript": "\n        if (parent && parent.analytics)\n            parent.analytics.track(\"Decision Optimization: Solve in Notebook\",\n                                    {\n   \"action\": \"Solve in Notebook\",\n   \"model\": {\n      \"type\": \"python\"\n   },\n   \"category\": \"Decision Optimization\",\n   \"details\": {\n      \"modelType\": \"cplex\",\n      \"modelSize\": {\n         \"numConstraints\": 13,\n         \"numVariables\": 12\n      },\n      \"solveId\": \"c0c51679-f6e2-4f56-9c73-c95fb92eb830\",\n      \"edition\": \"12.9.0.1 ce\"\n   }\n})\n    "
                    },
                    "metadata": {}
                },
                {
                    "output_type": "display_data",
                    "data": {
                        "text/plain": "<IPython.core.display.Javascript object>",
                        "application/javascript": "\n        if (parent && parent.analytics)\n            parent.analytics.track(\"Decision Optimization: End solve in Notebook\",\n                                    {\n   \"action\": \"End solve in Notebook\",\n   \"model\": {\n      \"type\": \"python\"\n   },\n   \"category\": \"Decision Optimization\",\n   \"details\": {\n      \"solveTime\": 0.005109071731567383,\n      \"solveId\": \"c0c51679-f6e2-4f56-9c73-c95fb92eb830\"\n   }\n})\n    "
                    },
                    "metadata": {}
                },
                {
                    "output_type": "stream",
                    "text": "* model oil_blending solved with objective = 287750.000\n*  KPI: Total advertising cost = 750.000\n*  KPI: Total Oil cost         = 487500.000\n*  KPI: Total production cost  = 54000.000\n*  KPI: Total revenue          = 830000.000\n",
                    "name": "stdout"
                }
            ]
        },
        {
            "metadata": {},
            "cell_type": "markdown",
            "source": "### Step 4: Investigate the solution and then run an example analysis\n\n#### Displaying the solution\nFirst, get the KPIs values and store them in a *pandas* DataFrame."
        },
        {
            "metadata": {},
            "cell_type": "code",
            "source": "all_kpis = [(kp.name, kp.compute()) for kp in mdl.iter_kpis()]\nkpis_bd = pd.DataFrame(all_kpis, columns=['kpi', 'value'])",
            "execution_count": 14,
            "outputs": []
        },
        {
            "metadata": {},
            "cell_type": "code",
            "source": "blend_values = [ [ blends[o,g].solution_value for g in range_gas] for o in range_oil]\ntotal_gas_prods = [sum(blend_values[o][g] for o in range_oil) for g in range_gas]\n\nprods = list(zip(gas_names, total_gas_prods))\nprods_bd = pd.DataFrame(prods)",
            "execution_count": 15,
            "outputs": []
        },
        {
            "metadata": {},
            "cell_type": "markdown",
            "source": "Let's display some KPIs in pie charts using the Python package [*matplotlib*](http://matplotlib.org/)."
        },
        {
            "metadata": {},
            "cell_type": "code",
            "source": "%matplotlib inline\nimport matplotlib.pyplot as plt\ndef display_pie(pie_values, pie_labels, colors=None,title=''):\n    plt.axis(\"equal\")\n    plt.pie(pie_values, labels=pie_labels, colors=colors, autopct=\"%1.1f%%\")\n    plt.title(title)\n    plt.show()\n                                                           \ndisplay_pie( [kpnv[1] for kpnv in all_kpis], [kpnv[0] for kpnv in all_kpis],title='KPIs: Revenue - Oil Cost - Production Cost')",
            "execution_count": 16,
            "outputs": [
                {
                    "output_type": "display_data",
                    "data": {
                        "text/plain": "<Figure size 432x288 with 1 Axes>",
                        "image/png": "[encoded data removed]"
                    },
                    "metadata": {}
                }
            ]
        },
        {
            "metadata": {},
            "cell_type": "markdown",
            "source": "##### Production"
        },
        {
            "metadata": {},
            "cell_type": "code",
            "source": "display_pie(total_gas_prods, gas_names, colors=[\"green\", \"goldenrod\", \"lightGreen\"],title='Gasoline Total Production')",
            "execution_count": 17,
            "outputs": [
                {
                    "output_type": "display_data",
                    "data": {
                        "text/plain": "<Figure size 432x288 with 1 Axes>",
                        "image/png": "[encoded data removed]"
                    },
                    "metadata": {}
                }
            ]
        },
        {
            "metadata": {},
            "cell_type": "markdown",
            "source": "You can see that the most produced gasoline type is by far regular.\n\nNow, plot the breakdown of oil blend quantities per gasoline type.\nA multiple bar chart diagram is used, displaying all blend values for each couple of oil and gasoline type."
        },
        {
            "metadata": {},
            "cell_type": "code",
            "source": "sblends = [(gas_names[n], oil_names[o], round(blends[o,n].solution_value)) for n in range_gas for o in range_oil]\n\nblends_bd = pd.DataFrame(sblends)",
            "execution_count": 18,
            "outputs": []
        },
        {
            "metadata": {},
            "cell_type": "code",
            "source": "f, barplot = plt.subplots(1, figsize=(16,5))\n\nbar_width = 0.1\noffset = 0.12\nrho = 0.7\n\n# position of left-bar boundaries\nbar_l = [o for o in range_oil]\n\nmbar_w = 3*bar_width+2*max(0, offset-bar_width)\n\ntick_pos = [b*rho + mbar_w/2.0 for b in bar_l]\n\ncolors = ['olive', 'lightgreen', 'cadetblue']\n\nfor i in range_oil:\n    barplot.bar([b*rho + (i*offset) for b in bar_l], \n                blend_values[i], width=bar_width, color=colors[i], label=oil_names[i])\n\nplt.xticks(tick_pos, gas_names)\nbarplot.set_xlabel(\"gasolines\")\nbarplot.set_ylabel(\"blend\")\nplt.legend(loc=\"upper right\")\nplt.title('Blend Repartition\\n')\n                                                                          \n\n# Set a buffer around the edge\nplt.xlim([0, max(tick_pos)+mbar_w +0.5])\n\nplt.show()",
            "execution_count": 19,
            "outputs": [
                {
                    "output_type": "display_data",
                    "data": {
                        "text/plain": "<Figure size 1152x360 with 1 Axes>",
                        "image/png": "[encoded data removed]"
                    },
                    "metadata": {
                        "needs_background": "light"
                    }
                }
            ]
        },
        {
            "metadata": {},
            "cell_type": "markdown",
            "source": "Notice the missing bar for (crude2, diesel) which is expected since blend[crude2, diesel] is zero in the solution.\n\nYou can check the solution value of blends for *crude2* and *diesel*, remembering that crude2 has offset 1 and diesel has offset 2.\nNote how the decision variable is automatically converted to a float here. This would raise an exception if called before submitting a solve, as no solution value would be present."
        },
        {
            "metadata": {},
            "cell_type": "code",
            "source": "print(\"* value of blend[crude2, diesel] is %g\" % blends[1,2])",
            "execution_count": 20,
            "outputs": [
                {
                    "output_type": "stream",
                    "text": "* value of blend[crude2, diesel] is 0\n",
                    "name": "stdout"
                }
            ]
        },
        {
            "metadata": {},
            "cell_type": "markdown",
            "source": "## Summary\n\n\nYou have learned how to set up and use IBM Decision Optimization CPLEX Modeling for Python to formulate a Mathematical Programming model and solve it with CPLEX."
        },
        {
            "metadata": {
                "collapsed": true
            },
            "cell_type": "markdown",
            "source": "## References\n* <a href=\"https://rawgit.com/IBMDecisionOptimization/docplex-doc/master/docs/index.html\" target=\"_blank\" rel=\"noopener noreferrer\">Decision Optimization CPLEX Modeling for Python documentation</a>\n* <a href=\"https://dataplatform.cloud.ibm.com/docs/content/wsj/getting-started/welcome-main.html\" target=\"_blank\" rel=\"noopener noreferrer\">Watson Studio documentation</a>\n"
        },
        {
            "metadata": {},
            "cell_type": "markdown",
            "source": "<hr>\nCopyright \u00a9 2017-2019. This notebook and its source code are released under the terms of the MIT License."
        },
        {
            "metadata": {},
            "cell_type": "markdown",
            "source": "<div style=\"background:#F5F7FA; height:110px; padding: 2em; font-size:14px;\">\n<span style=\"font-size:18px;color:#152935;\">Love this notebook? </span>\n<span style=\"font-size:15px;color:#152935;float:right;margin-right:40px;\">Don't have an account yet?</span><br>\n<span style=\"color:#5A6872;\">Share it with your colleagues and help them discover the power of Watson Studio!</span>\n<span style=\"border: 1px solid #3d70b2;padding:8px;float:right;margin-right:40px; color:#3d70b2;\"><a href=\"https://ibm.co/wsnotebooks\" target=\"_blank\" style=\"color: #3d70b2;text-decoration: none;\">Sign Up</a></span><br>\n</div>"
        }
    ],
    "metadata": {
        "kernelspec": {
            "name": "python3",
            "display_name": "Python 3.6",
            "language": "python"
        },
        "language_info": {
            "name": "python",
            "version": "3.6.8",
            "mimetype": "text/x-python",
            "codemirror_mode": {
                "name": "ipython",
                "version": 3
            },
            "pygments_lexer": "ipython3",
            "nbconvert_exporter": "python",
            "file_extension": ".py"
        }
    },
    "nbformat": 4,
    "nbformat_minor": 1
}